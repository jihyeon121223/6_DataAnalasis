{
 "cells": [
  {
   "cell_type": "code",
   "execution_count": 2,
   "id": "06f852ca-9d26-4730-8067-361058ec891d",
   "metadata": {},
   "outputs": [],
   "source": [
    "import numpy as np\n",
    "import matplotlib.pyplot as plt"
   ]
  },
  {
   "cell_type": "code",
   "execution_count": 5,
   "id": "7f834e83-eae3-422d-b7da-fa68df739d90",
   "metadata": {},
   "outputs": [],
   "source": [
    "noise = np.random.randn(100)"
   ]
  },
  {
   "cell_type": "code",
   "execution_count": 7,
   "id": "c6e3f718-8040-4c60-835d-1e52695e3aa8",
   "metadata": {},
   "outputs": [],
   "source": [
    "x = np.random.randint(10,20,size=100)\n",
    "y = 3*x + noise"
   ]
  },
  {
   "cell_type": "code",
   "execution_count": 10,
   "id": "ff01ea04-49a9-46da-ba4e-f2d124227c53",
   "metadata": {},
   "outputs": [
    {
     "data": {
      "text/plain": [
       "<matplotlib.collections.PathCollection at 0x7fa84e774eb0>"
      ]
     },
     "execution_count": 10,
     "metadata": {},
     "output_type": "execute_result"
    },
    {
     "data": {
      "image/png": "[encoded data removed]",
      "text/plain": [
       "<Figure size 432x288 with 1 Axes>"
      ]
     },
     "metadata": {
      "needs_background": "light"
     },
     "output_type": "display_data"
    }
   ],
   "source": [
    "plt.scatter(x,y)"
   ]
  },
  {
   "cell_type": "code",
   "execution_count": 30,
   "id": "8ea773e8-354a-4b92-8a53-d5215ba68e1f",
   "metadata": {},
   "outputs": [],
   "source": [
    "a = 3\n",
    "y_hat = a*x\n",
    "err = []\n",
    "for a in np.arange(-5,12):\n",
    "    y_hat = a*x\n",
    "    tmp = (np.sum((y-y_hat)**2))/y.size\n",
    "    err.append(tmp)"
   ]
  },
  {
   "cell_type": "code",
   "execution_count": 32,
   "id": "e2d2b8b5-f20d-48f0-8773-a22c484d32dd",
   "metadata": {},
   "outputs": [
    {
     "data": {
      "text/plain": [
       "[<matplotlib.lines.Line2D at 0x7fa84db5d7f0>]"
      ]
     },
     "execution_count": 32,
     "metadata": {},
     "output_type": "execute_result"
    },
    {
     "data": {
      "image/png": "[encoded data removed]",
      "text/plain": [
       "<Figure size 432x288 with 1 Axes>"
      ]
     },
     "metadata": {
      "needs_background": "light"
     },
     "output_type": "display_data"
    }
   ],
   "source": [
    "a = np.arange(-5,12)\n",
    "plt.plot(a,err)"
   ]
  },
  {
   "cell_type": "code",
   "execution_count": 121,
   "id": "a38c1ef1-efda-414f-a035-59d045fb3ff9",
   "metadata": {},
   "outputs": [],
   "source": [
    "a = np.random.randint(-5,5)\n",
    "b = np.random.randint(-5,5)\n",
    "x = np.random.randint(10,200,1000)\n",
    "y = x * a + b"
   ]
  },
  {
   "cell_type": "code",
   "execution_count": 122,
   "id": "64c6322e-4904-4323-aada-9e018b02bcb7",
   "metadata": {},
   "outputs": [],
   "source": [
    "epoch = 10000\n",
    "w = np.random.randint(-5,5)\n",
    "_b = np.random.randint(-8,8)\n",
    "lr = 1e-5\n",
    "err = []\n",
    "for i in range(epoch):\n",
    "    y_hat = w*x + _b\n",
    "    w = w - lr*((y_hat-y)*x).mean()\n",
    "    _b = _b - lr*(y_hat-y).mean()"
   ]
  },
  {
   "cell_type": "code",
   "execution_count": 123,
   "id": "fca1b008-dd59-41d6-9e1e-abf97ec2a976",
   "metadata": {},
   "outputs": [
    {
     "name": "stdout",
     "output_type": "stream",
     "text": [
      "실제기울기 1 예측기울기 0.9337818003125123 \n",
      " 실제편차 -5 예측편차 3.8115927159308685\n"
     ]
    }
   ],
   "source": [
    "print(f\"실제기울기 {a} 예측기울기 {w} \\n 실제편차 {b} 예측편차 {_b}\")"
   ]
  },
  {
   "cell_type": "code",
   "execution_count": 37,
   "id": "6eb386c4-6687-46ca-8104-fd2646f0be1e",
   "metadata": {},
   "outputs": [],
   "source": [
    "x1 = np.random.randint(1,100,size=1000)\n",
    "x2 = np.random.randint(1,100,size=1000)\n",
    "y = np.random.randint(1,100,size=1000)"
   ]
  },
  {
   "cell_type": "code",
   "execution_count": 38,
   "id": "8a53a2bc-9f3b-4710-bcb7-8fb2360e09ae",
   "metadata": {},
   "outputs": [],
   "source": [
    "lr = 1e-5\n",
    "epoch = 10000\n",
    "w1 = -1\n",
    "w2 = -3\n",
    "_b = 3\n",
    "for i in range(epoch):\n",
    "    y_hat = w1*x1 + w2*x2 + _b\n",
    "    w1 = w1 - lr*((y_hat-y)*x1).mean()\n",
    "    w2 = w2 - lr*((y_hat-y)*x2).mean()\n",
    "    _b = _b - lr*(y_hat-y).mean()"
   ]
  },
  {
   "cell_type": "code",
   "execution_count": 39,
   "id": "a71dbb1c-b672-4985-a59c-3fcba9b83921",
   "metadata": {},
   "outputs": [],
   "source": [
    "y_hat = w1*x1 + w2*x2 + _b"
   ]
  },
  {
   "cell_type": "code",
   "execution_count": 40,
   "id": "e62c3502-b5b9-4494-874a-cda830718953",
   "metadata": {},
   "outputs": [],
   "source": [
    "오차의제곱합 = np.sum((y - y_hat)**2)\n",
    "편차의제곱합 = np.sum((y-y.mean())**2)"
   ]
  },
  {
   "cell_type": "code",
   "execution_count": 41,
   "id": "2ec352f1-c8e2-4a16-94aa-19cdbfd41a84",
   "metadata": {},
   "outputs": [
    {
     "data": {
      "text/plain": [
       "-0.41518870315571554"
      ]
     },
     "execution_count": 41,
     "metadata": {},
     "output_type": "execute_result"
    }
   ],
   "source": [
    "r_squared = 1 - (오차의제곱합)/(편차의제곱합)\n",
    "r_squared"
   ]
  },
  {
   "cell_type": "code",
   "execution_count": 158,
   "id": "06a26b35-7eea-4ce0-aec1-f02a91b7a7c4",
   "metadata": {},
   "outputs": [],
   "source": [
    "x = np.random.randint(10,100,size=1000)\n",
    "y = x*7 + np.random.randint(1,5,1000)"
   ]
  },
  {
   "cell_type": "code",
   "execution_count": 170,
   "id": "fc43afd2-f128-47b5-b80e-ee86397734c5",
   "metadata": {},
   "outputs": [],
   "source": [
    "x = np.random.randint(10,100,size=1000)\n",
    "y = np.random.randint(10,100,size=1000)"
   ]
  },
  {
   "cell_type": "code",
   "execution_count": 171,
   "id": "172048bd-ca16-4dab-8632-e96c2579eb8c",
   "metadata": {},
   "outputs": [
    {
     "data": {
      "text/plain": [
       "-0.0027054763662262187"
      ]
     },
     "execution_count": 171,
     "metadata": {},
     "output_type": "execute_result"
    }
   ],
   "source": [
    "(np.sum((x-x.mean())*(y-y.mean())))/(999)/(np.sqrt(np.var(x)*np.var(y)))"
   ]
  },
  {
   "cell_type": "code",
   "execution_count": 164,
   "id": "6e1a1986-b4e1-48a4-a3f9-b54d07aaa7ac",
   "metadata": {},
   "outputs": [
    {
     "data": {
      "text/plain": [
       "698.5252439999999"
      ]
     },
     "execution_count": 164,
     "metadata": {},
     "output_type": "execute_result"
    }
   ],
   "source": [
    "np.sum((x - x.mean())**2)/x.size"
   ]
  },
  {
   "cell_type": "code",
   "execution_count": 2,
   "id": "46e8354a-746e-46da-8ad1-f15b504936c8",
   "metadata": {},
   "outputs": [],
   "source": [
    "import numpy as np\n",
    "x = np.arange(1,100)"
   ]
  },
  {
   "cell_type": "code",
   "execution_count": 3,
   "id": "f62fbabf-ed01-45be-827e-dc69f838f13d",
   "metadata": {},
   "outputs": [],
   "source": [
    "y = np.linspace(0,1,99)"
   ]
  },
  {
   "cell_type": "code",
   "execution_count": 10,
   "id": "d41283dc-28d2-415e-8aed-d65c53006090",
   "metadata": {},
   "outputs": [],
   "source": [
    "logi_x = 1 / (1 +np.exp(-x))"
   ]
  },
  {
   "cell_type": "code",
   "execution_count": 5,
   "id": "e2018058-2d8e-43b5-a1d5-d72bb9df1b7b",
   "metadata": {},
   "outputs": [
    {
     "data": {
      "text/plain": [
       "[<matplotlib.lines.Line2D at 0x7f7b879101c0>]"
      ]
     },
     "execution_count": 5,
     "metadata": {},
     "output_type": "execute_result"
    },
    {
     "data": {
      "image/png": "[encoded data removed]",
      "text/plain": [
       "<Figure size 432x288 with 1 Axes>"
      ]
     },
     "metadata": {
      "needs_background": "light"
     },
     "output_type": "display_data"
    }
   ],
   "source": [
    "import matplotlib.pyplot as plt\n",
    "plt.plot(x,y)"
   ]
  },
  {
   "cell_type": "code",
   "execution_count": 11,
   "id": "9a504c74-2948-4557-b1ba-50cbc68bc603",
   "metadata": {},
   "outputs": [
    {
     "data": {
      "text/plain": [
       "[<matplotlib.lines.Line2D at 0x7f7b87783f70>]"
      ]
     },
     "execution_count": 11,
     "metadata": {},
     "output_type": "execute_result"
    },
    {
     "data": {
      "image/png": "[encoded data removed]",
      "text/plain": [
       "<Figure size 432x288 with 1 Axes>"
      ]
     },
     "metadata": {
      "needs_background": "light"
     },
     "output_type": "display_data"
    }
   ],
   "source": [
    "plt.plot(logi_x,y)"
   ]
  },
  {
   "cell_type": "code",
   "execution_count": 27,
   "id": "536ce341-ff99-40cc-b3bb-f1c9a17a1111",
   "metadata": {},
   "outputs": [],
   "source": [
    "import numpy as np\n",
    "import matplotlib.pyplot as plt\n",
    "def step(x):\n",
    "    return np.array(x>=0, np.int)\n",
    "def sigmoid(x):\n",
    "    return 1/(1+np.exp(-x))\n",
    "x = np.arange(-5,5,0.1)"
   ]
  },
  {
   "cell_type": "code",
   "execution_count": 28,
   "id": "53c320b5-fd56-4380-a279-ddc3fee7eae8",
   "metadata": {},
   "outputs": [
    {
     "name": "stderr",
     "output_type": "stream",
     "text": [
      "/tmp/ipykernel_3415/853808918.py:4: DeprecationWarning: `np.int` is a deprecated alias for the builtin `int`. To silence this warning, use `int` by itself. Doing this will not modify any behavior and is safe. When replacing `np.int`, you may wish to use e.g. `np.int64` or `np.int32` to specify the precision. If you wish to review your current use, check the release note link for additional information.\n",
      "Deprecated in NumPy 1.20; for more details and guidance: https://numpy.org/devdocs/release/1.20.0-notes.html#deprecations\n",
      "  return np.array(x>=0, np.int)\n"
     ]
    },
    {
     "data": {
      "text/plain": [
       "[<matplotlib.lines.Line2D at 0x7f7b8753aa30>]"
      ]
     },
     "execution_count": 28,
     "metadata": {},
     "output_type": "execute_result"
    },
    {
     "data": {
      "image/png": "[encoded data removed]",
      "text/plain": [
       "<Figure size 432x288 with 1 Axes>"
      ]
     },
     "metadata": {
      "needs_background": "light"
     },
     "output_type": "display_data"
    }
   ],
   "source": [
    "plt.plot(x,step(x))"
   ]
  },
  {
   "cell_type": "code",
   "execution_count": 29,
   "id": "e4ec1086-3ad2-4d11-88ff-8f6bb6257d6c",
   "metadata": {},
   "outputs": [
    {
     "data": {
      "text/plain": [
       "[<matplotlib.lines.Line2D at 0x7f7b8749f9d0>]"
      ]
     },
     "execution_count": 29,
     "metadata": {},
     "output_type": "execute_result"
    },
    {
     "data": {
      "image/png": "[encoded data removed]",
      "text/plain": [
       "<Figure size 432x288 with 1 Axes>"
      ]
     },
     "metadata": {
      "needs_background": "light"
     },
     "output_type": "display_data"
    }
   ],
   "source": [
    "plt.plot(x,sigmoid(x))"
   ]
  },
  {
   "cell_type": "code",
   "execution_count": 20,
   "id": "2bbb3b6d-caab-4061-aa21-245b85507eea",
   "metadata": {},
   "outputs": [
    {
     "data": {
      "text/plain": [
       "0.9525741268224334"
      ]
     },
     "execution_count": 20,
     "metadata": {},
     "output_type": "execute_result"
    }
   ],
   "source": [
    "sigmoid(3)"
   ]
  },
  {
   "cell_type": "code",
   "execution_count": 42,
   "id": "14e464a6-fa1a-412b-ae60-f8bc4e4e07ac",
   "metadata": {},
   "outputs": [],
   "source": [
    "x1 = np.random.randint(10000,100000,1000)\n",
    "x2 = np.random.randint(1,10, 1000)"
   ]
  },
  {
   "cell_type": "code",
   "execution_count": 47,
   "id": "4885983d-163c-4e51-b771-742844a08b77",
   "metadata": {},
   "outputs": [],
   "source": [
    "x1_var = np.sum((x1-x1.mean())**2)/len(x1)\n",
    "x2_var = np.sum((x2-x2.mean())**2)/len(x2)"
   ]
  },
  {
   "cell_type": "code",
   "execution_count": 54,
   "id": "d03a7909-0cb8-4303-bfea-611c459cd096",
   "metadata": {},
   "outputs": [],
   "source": [
    "cov = np.sum(((x1-x1.mean())*(x2-x2.mean())))/len(x2)"
   ]
  },
  {
   "cell_type": "code",
   "execution_count": 56,
   "id": "e4a9ca03-4ba7-4e1d-9f93-7d242ec8788e",
   "metadata": {},
   "outputs": [],
   "source": [
    "x1_sc = (max(x1)-x1)/(max(x1)-min(x1))"
   ]
  },
  {
   "cell_type": "code",
   "execution_count": 58,
   "id": "d968c29f-0357-4283-a378-001a25d3273f",
   "metadata": {},
   "outputs": [],
   "source": [
    "x1_sc = (max(x2)-x2)/(max(x2)-min(x2))"
   ]
  },
  {
   "cell_type": "code",
   "execution_count": 59,
   "id": "2f6851ff-a181-40f8-8936-3e446fa400be",
   "metadata": {},
   "outputs": [],
   "source": [
    "cov_sc = np.sum(((x1_sc-x1_sc.mean())*(x2_sc-x2_sc.mean())))/len(x2_sc)"
   ]
  },
  {
   "cell_type": "code",
   "execution_count": 60,
   "id": "ad625b92-3314-48aa-b924-06d6f81ced7b",
   "metadata": {},
   "outputs": [
    {
     "data": {
      "text/plain": [
       "3980.309414"
      ]
     },
     "execution_count": 60,
     "metadata": {},
     "output_type": "execute_result"
    }
   ],
   "source": [
    "cov"
   ]
  },
  {
   "cell_type": "code",
   "execution_count": 61,
   "id": "94002594-b3e6-4e22-b916-231e7fb7113b",
   "metadata": {},
   "outputs": [
    {
     "data": {
      "text/plain": [
       "0.005530911520632308"
      ]
     },
     "execution_count": 61,
     "metadata": {},
     "output_type": "execute_result"
    }
   ],
   "source": [
    "cov_sc"
   ]
  },
  {
   "cell_type": "code",
   "execution_count": 62,
   "id": "eaa42860-5706-4298-8e2c-36ba9d164664",
   "metadata": {},
   "outputs": [],
   "source": [
    "from sklearn.datasets import load_iris"
   ]
  },
  {
   "cell_type": "code",
   "execution_count": 64,
   "id": "8b549815-1812-4200-846a-c81d8fa5787e",
   "metadata": {},
   "outputs": [],
   "source": [
    "iris = load_iris()[\"data\"]"
   ]
  },
  {
   "cell_type": "code",
   "execution_count": 69,
   "id": "c061372b-eed5-400b-8f92-6fa438d27117",
   "metadata": {},
   "outputs": [
    {
     "data": {
      "text/plain": [
       "<matplotlib.collections.PathCollection at 0x7f7b846b8a90>"
      ]
     },
     "execution_count": 69,
     "metadata": {},
     "output_type": "execute_result"
    },
    {
     "data": {
      "image/png": "[encoded data removed]",
      "text/plain": [
       "<Figure size 432x288 with 1 Axes>"
      ]
     },
     "metadata": {
      "needs_background": "light"
     },
     "output_type": "display_data"
    }
   ],
   "source": [
    "plt.scatter(iris[:,1],iris[:,2])"
   ]
  },
  {
   "cell_type": "code",
   "execution_count": 75,
   "id": "ea3e43ca-2e86-4665-9ea2-b9625a30de56",
   "metadata": {},
   "outputs": [],
   "source": [
    "from sklearn.datasets import load_iris\n",
    "data = load_iris()\n",
    "x1 = data[:,0]\n",
    "x2 = data[:,1]"
   ]
  },
  {
   "cell_type": "code",
   "execution_count": 81,
   "id": "a07869c4-db19-48d3-9280-6629e3dcd31e",
   "metadata": {},
   "outputs": [
    {
     "data": {
      "text/plain": [
       "0.06005971071763203"
      ]
     },
     "execution_count": 81,
     "metadata": {},
     "output_type": "execute_result"
    }
   ],
   "source": [
    "x1 = (x1-min(x1))/(max(x1)-min(x1))\n",
    "x2 = (x2-min(x2))/(max(x2)-min(x2))\n",
    "np.sum(np.cov(x1,x2))/np.std(x1)*np.std(x2)"
   ]
  },
  {
   "cell_type": "code",
   "execution_count": 77,
   "id": "cec3c56d-22fa-4b5f-9be7-de6a4b0ecd7d",
   "metadata": {},
   "outputs": [
    {
     "data": {
      "text/plain": [
       "0.1887128888888889"
      ]
     },
     "execution_count": 77,
     "metadata": {},
     "output_type": "execute_result"
    }
   ],
   "source": [
    "np.var(x2)"
   ]
  },
  {
   "cell_type": "code",
   "execution_count": null,
   "id": "90967508-1e3e-49a7-a16b-bd161d25bdea",
   "metadata": {},
   "outputs": [],
   "source": [
    "!pip install scikit-learn"
   ]
  },
  {
   "cell_type": "code",
   "execution_count": 88,
   "id": "4518f417-5257-4285-90b5-77fd51c87128",
   "metadata": {},
   "outputs": [],
   "source": [
    "import pandas as pd\n",
    "x = load_iris()['data']\n",
    "dt = pd.DataFrame(x)\n",
    "dt.columns = load_iris()['feature_names']\n",
    "dt[\"Species\"] = np.where(load_iris()[\"target\"] == 0,\"setosa\",\n",
    "         np.where(load_iris()[\"target\"] == 1, \"vesicolor\",\"verginica\"))"
   ]
  },
  {
   "cell_type": "code",
   "execution_count": 90,
   "id": "52f2963c-d21b-4d3a-8a03-ae6998e01972",
   "metadata": {},
   "outputs": [],
   "source": [
    "dt.to_csv(\"iris.csv\")"
   ]
  },
  {
   "cell_type": "code",
   "execution_count": 91,
   "id": "e3d40d37-3d33-4b97-bc97-1502aaf3fd18",
   "metadata": {},
   "outputs": [],
   "source": [
    "data = pd.read_csv(\"iris.csv\")"
   ]
  },
  {
   "cell_type": "code",
   "execution_count": 93,
   "id": "c997f513-0241-46b8-ae50-687223874249",
   "metadata": {},
   "outputs": [],
   "source": [
    "data = data.iloc[:,1:]"
   ]
  },
  {
   "cell_type": "code",
   "execution_count": 102,
   "id": "bb14fba1-14dd-40c0-b73c-a8c9ff3991c2",
   "metadata": {},
   "outputs": [],
   "source": [
    "X = data.iloc[:,:-1]\n",
    "y = data.iloc[:,-1]"
   ]
  },
  {
   "cell_type": "code",
   "execution_count": 105,
   "id": "ffc464be-aea4-4874-acbe-98a6702c24ba",
   "metadata": {},
   "outputs": [],
   "source": [
    "X = X.values"
   ]
  },
  {
   "cell_type": "code",
   "execution_count": 107,
   "id": "456e02e9-93a7-450f-ba1a-bed87104b1bd",
   "metadata": {},
   "outputs": [],
   "source": [
    "y = y.values"
   ]
  },
  {
   "cell_type": "code",
   "execution_count": 109,
   "id": "59557261-de0f-4d7a-bc1a-7db8c6dd7b04",
   "metadata": {},
   "outputs": [],
   "source": [
    "from sklearn.model_selection import train_test_split"
   ]
  },
  {
   "cell_type": "code",
   "execution_count": 110,
   "id": "80e7b0f0-dbc4-4932-a652-44cbec7f1076",
   "metadata": {},
   "outputs": [],
   "source": [
    "X_train, X_test, y_train, y_test = train_test_split(X,y,test_size=0.2)"
   ]
  },
  {
   "cell_type": "code",
   "execution_count": 113,
   "id": "f4548d90-8b95-4cbe-9273-c1357f0bbffb",
   "metadata": {},
   "outputs": [],
   "source": [
    "from sklearn.svm import SVC"
   ]
  },
  {
   "cell_type": "code",
   "execution_count": 114,
   "id": "cec3223c-1ca1-4572-8bc5-725ee50b9866",
   "metadata": {},
   "outputs": [],
   "source": [
    "model = SVC()"
   ]
  },
  {
   "cell_type": "code",
   "execution_count": 116,
   "id": "444d3dce-f12f-4c56-b06e-0e95a8f30193",
   "metadata": {},
   "outputs": [
    {
     "data": {
      "text/plain": [
       "SVC()"
      ]
     },
     "execution_count": 116,
     "metadata": {},
     "output_type": "execute_result"
    }
   ],
   "source": [
    "model.fit(X_train,y_train)"
   ]
  },
  {
   "cell_type": "code",
   "execution_count": 117,
   "id": "6029d9d9-41e1-4a63-a3b0-b9015c6fcb15",
   "metadata": {},
   "outputs": [],
   "source": [
    "y_hat = model.predict(X_test)"
   ]
  },
  {
   "cell_type": "code",
   "execution_count": 119,
   "id": "4c1397b4-1039-4244-9253-fe45e8c64c5a",
   "metadata": {},
   "outputs": [
    {
     "data": {
      "text/plain": [
       "1.0"
      ]
     },
     "execution_count": 119,
     "metadata": {},
     "output_type": "execute_result"
    }
   ],
   "source": [
    "sum(y_hat == y_test)/len(y_test)"
   ]
  },
  {
   "cell_type": "code",
   "execution_count": 132,
   "id": "aa318037-59d1-43f2-93ad-a19b7ef57450",
   "metadata": {},
   "outputs": [],
   "source": [
    "from sklearn.tree import DecisionTreeClassifier\n",
    "from sklearn.neighbors import KNeighborsClassifier"
   ]
  },
  {
   "cell_type": "code",
   "execution_count": 127,
   "id": "5cb2e0a2-25f0-4c19-a726-5b4f54ffabf3",
   "metadata": {},
   "outputs": [],
   "source": [
    "dt_model = DecisionTreeClassifier()"
   ]
  },
  {
   "cell_type": "code",
   "execution_count": 128,
   "id": "05ace3e2-27d0-466c-a53f-70da123fdac0",
   "metadata": {},
   "outputs": [
    {
     "data": {
      "text/plain": [
       "DecisionTreeClassifier()"
      ]
     },
     "execution_count": 128,
     "metadata": {},
     "output_type": "execute_result"
    }
   ],
   "source": [
    "dt_model.fit(X_train,y_train)"
   ]
  },
  {
   "cell_type": "code",
   "execution_count": 133,
   "id": "bd67f966-32f0-427c-8f90-2b532bbb5a57",
   "metadata": {},
   "outputs": [],
   "source": [
    "knn = KNeighborsClassifier()"
   ]
  },
  {
   "cell_type": "code",
   "execution_count": 134,
   "id": "39b12237-d698-4800-902d-869d2b05ddeb",
   "metadata": {},
   "outputs": [
    {
     "data": {
      "text/plain": [
       "KNeighborsClassifier()"
      ]
     },
     "execution_count": 134,
     "metadata": {},
     "output_type": "execute_result"
    }
   ],
   "source": [
    "knn.fit(X_train, y_train)"
   ]
  },
  {
   "cell_type": "code",
   "execution_count": 129,
   "id": "b9710325-1468-45a3-a6a1-cd5a52e59780",
   "metadata": {},
   "outputs": [
    {
     "data": {
      "text/plain": [
       "0.9666666666666667"
      ]
     },
     "execution_count": 129,
     "metadata": {},
     "output_type": "execute_result"
    }
   ],
   "source": [
    "dt_model.score(X_test,y_test)"
   ]
  },
  {
   "cell_type": "code",
   "execution_count": 135,
   "id": "bf0bee15-b673-4481-880f-0fe959b63c3c",
   "metadata": {},
   "outputs": [
    {
     "data": {
      "text/plain": [
       "0.9666666666666667"
      ]
     },
     "execution_count": 135,
     "metadata": {},
     "output_type": "execute_result"
    }
   ],
   "source": [
    "knn.score(X_test,y_test)"
   ]
  },
  {
   "cell_type": "code",
   "execution_count": 136,
   "id": "5ed5ec5d-4ad1-4d47-9cd4-83aa82472e48",
   "metadata": {},
   "outputs": [
    {
     "data": {
      "text/plain": [
       "(30, 4)"
      ]
     },
     "execution_count": 136,
     "metadata": {},
     "output_type": "execute_result"
    }
   ],
   "source": [
    "X_test.shape"
   ]
  },
  {
   "cell_type": "code",
   "execution_count": 144,
   "id": "72abd6be-62c6-4cac-8bec-93a451d8770c",
   "metadata": {},
   "outputs": [],
   "source": [
    "obj = X_test[[0],:]+np.array([0.1,1.0,2.0,3])"
   ]
  },
  {
   "cell_type": "code",
   "execution_count": 140,
   "id": "848ad3bb-7718-443d-81a3-932b2ece6aac",
   "metadata": {},
   "outputs": [
    {
     "data": {
      "text/plain": [
       "'setosa'"
      ]
     },
     "execution_count": 140,
     "metadata": {},
     "output_type": "execute_result"
    }
   ],
   "source": [
    "y_test[0]"
   ]
  },
  {
   "cell_type": "code",
   "execution_count": 145,
   "id": "f243a369-8d46-4595-a6e3-3f92a0ff2908",
   "metadata": {},
   "outputs": [
    {
     "data": {
      "text/plain": [
       "array(['vesicolor'], dtype=object)"
      ]
     },
     "execution_count": 145,
     "metadata": {},
     "output_type": "execute_result"
    }
   ],
   "source": [
    "knn.predict(obj)"
   ]
  },
  {
   "cell_type": "code",
   "execution_count": 147,
   "id": "137f9733-1add-4815-85d5-33e40df07848",
   "metadata": {},
   "outputs": [
    {
     "data": {
      "text/plain": [
       "array(['vesicolor'], dtype=object)"
      ]
     },
     "execution_count": 147,
     "metadata": {},
     "output_type": "execute_result"
    }
   ],
   "source": [
    "dt_model.predict(obj)"
   ]
  },
  {
   "cell_type": "code",
   "execution_count": 148,
   "id": "6ab80c43-4bba-44e6-8cde-d64c90e18395",
   "metadata": {},
   "outputs": [
    {
     "data": {
      "text/plain": [
       "array(['verginica'], dtype=object)"
      ]
     },
     "execution_count": 148,
     "metadata": {},
     "output_type": "execute_result"
    }
   ],
   "source": [
    "model.predict(obj)"
   ]
  },
  {
   "cell_type": "code",
   "execution_count": 153,
   "id": "c1875638-0ef6-4ca0-b85e-4baf402f31c4",
   "metadata": {},
   "outputs": [],
   "source": [
    "from sklearn.cluster import KMeans"
   ]
  },
  {
   "cell_type": "code",
   "execution_count": 154,
   "id": "43dc1074-10e9-4a89-8474-72882ebb6ff7",
   "metadata": {},
   "outputs": [
    {
     "data": {
      "text/plain": [
       "array([[5.1, 3.5, 1.4, 0.2],\n",
       "       [4.9, 3. , 1.4, 0.2],\n",
       "       [4.7, 3.2, 1.3, 0.2],\n",
       "       [4.6, 3.1, 1.5, 0.2],\n",
       "       [5. , 3.6, 1.4, 0.2],\n",
       "       [5.4, 3.9, 1.7, 0.4],\n",
       "       [4.6, 3.4, 1.4, 0.3],\n",
       "       [5. , 3.4, 1.5, 0.2],\n",
       "       [4.4, 2.9, 1.4, 0.2],\n",
       "       [4.9, 3.1, 1.5, 0.1],\n",
       "       [5.4, 3.7, 1.5, 0.2],\n",
       "       [4.8, 3.4, 1.6, 0.2],\n",
       "       [4.8, 3. , 1.4, 0.1],\n",
       "       [4.3, 3. , 1.1, 0.1],\n",
       "       [5.8, 4. , 1.2, 0.2],\n",
       "       [5.7, 4.4, 1.5, 0.4],\n",
       "       [5.4, 3.9, 1.3, 0.4],\n",
       "       [5.1, 3.5, 1.4, 0.3],\n",
       "       [5.7, 3.8, 1.7, 0.3],\n",
       "       [5.1, 3.8, 1.5, 0.3],\n",
       "       [5.4, 3.4, 1.7, 0.2],\n",
       "       [5.1, 3.7, 1.5, 0.4],\n",
       "       [4.6, 3.6, 1. , 0.2],\n",
       "       [5.1, 3.3, 1.7, 0.5],\n",
       "       [4.8, 3.4, 1.9, 0.2],\n",
       "       [5. , 3. , 1.6, 0.2],\n",
       "       [5. , 3.4, 1.6, 0.4],\n",
       "       [5.2, 3.5, 1.5, 0.2],\n",
       "       [5.2, 3.4, 1.4, 0.2],\n",
       "       [4.7, 3.2, 1.6, 0.2],\n",
       "       [4.8, 3.1, 1.6, 0.2],\n",
       "       [5.4, 3.4, 1.5, 0.4],\n",
       "       [5.2, 4.1, 1.5, 0.1],\n",
       "       [5.5, 4.2, 1.4, 0.2],\n",
       "       [4.9, 3.1, 1.5, 0.2],\n",
       "       [5. , 3.2, 1.2, 0.2],\n",
       "       [5.5, 3.5, 1.3, 0.2],\n",
       "       [4.9, 3.6, 1.4, 0.1],\n",
       "       [4.4, 3. , 1.3, 0.2],\n",
       "       [5.1, 3.4, 1.5, 0.2],\n",
       "       [5. , 3.5, 1.3, 0.3],\n",
       "       [4.5, 2.3, 1.3, 0.3],\n",
       "       [4.4, 3.2, 1.3, 0.2],\n",
       "       [5. , 3.5, 1.6, 0.6],\n",
       "       [5.1, 3.8, 1.9, 0.4],\n",
       "       [4.8, 3. , 1.4, 0.3],\n",
       "       [5.1, 3.8, 1.6, 0.2],\n",
       "       [4.6, 3.2, 1.4, 0.2],\n",
       "       [5.3, 3.7, 1.5, 0.2],\n",
       "       [5. , 3.3, 1.4, 0.2],\n",
       "       [7. , 3.2, 4.7, 1.4],\n",
       "       [6.4, 3.2, 4.5, 1.5],\n",
       "       [6.9, 3.1, 4.9, 1.5],\n",
       "       [5.5, 2.3, 4. , 1.3],\n",
       "       [6.5, 2.8, 4.6, 1.5],\n",
       "       [5.7, 2.8, 4.5, 1.3],\n",
       "       [6.3, 3.3, 4.7, 1.6],\n",
       "       [4.9, 2.4, 3.3, 1. ],\n",
       "       [6.6, 2.9, 4.6, 1.3],\n",
       "       [5.2, 2.7, 3.9, 1.4],\n",
       "       [5. , 2. , 3.5, 1. ],\n",
       "       [5.9, 3. , 4.2, 1.5],\n",
       "       [6. , 2.2, 4. , 1. ],\n",
       "       [6.1, 2.9, 4.7, 1.4],\n",
       "       [5.6, 2.9, 3.6, 1.3],\n",
       "       [6.7, 3.1, 4.4, 1.4],\n",
       "       [5.6, 3. , 4.5, 1.5],\n",
       "       [5.8, 2.7, 4.1, 1. ],\n",
       "       [6.2, 2.2, 4.5, 1.5],\n",
       "       [5.6, 2.5, 3.9, 1.1],\n",
       "       [5.9, 3.2, 4.8, 1.8],\n",
       "       [6.1, 2.8, 4. , 1.3],\n",
       "       [6.3, 2.5, 4.9, 1.5],\n",
       "       [6.1, 2.8, 4.7, 1.2],\n",
       "       [6.4, 2.9, 4.3, 1.3],\n",
       "       [6.6, 3. , 4.4, 1.4],\n",
       "       [6.8, 2.8, 4.8, 1.4],\n",
       "       [6.7, 3. , 5. , 1.7],\n",
       "       [6. , 2.9, 4.5, 1.5],\n",
       "       [5.7, 2.6, 3.5, 1. ],\n",
       "       [5.5, 2.4, 3.8, 1.1],\n",
       "       [5.5, 2.4, 3.7, 1. ],\n",
       "       [5.8, 2.7, 3.9, 1.2],\n",
       "       [6. , 2.7, 5.1, 1.6],\n",
       "       [5.4, 3. , 4.5, 1.5],\n",
       "       [6. , 3.4, 4.5, 1.6],\n",
       "       [6.7, 3.1, 4.7, 1.5],\n",
       "       [6.3, 2.3, 4.4, 1.3],\n",
       "       [5.6, 3. , 4.1, 1.3],\n",
       "       [5.5, 2.5, 4. , 1.3],\n",
       "       [5.5, 2.6, 4.4, 1.2],\n",
       "       [6.1, 3. , 4.6, 1.4],\n",
       "       [5.8, 2.6, 4. , 1.2],\n",
       "       [5. , 2.3, 3.3, 1. ],\n",
       "       [5.6, 2.7, 4.2, 1.3],\n",
       "       [5.7, 3. , 4.2, 1.2],\n",
       "       [5.7, 2.9, 4.2, 1.3],\n",
       "       [6.2, 2.9, 4.3, 1.3],\n",
       "       [5.1, 2.5, 3. , 1.1],\n",
       "       [5.7, 2.8, 4.1, 1.3],\n",
       "       [6.3, 3.3, 6. , 2.5],\n",
       "       [5.8, 2.7, 5.1, 1.9],\n",
       "       [7.1, 3. , 5.9, 2.1],\n",
       "       [6.3, 2.9, 5.6, 1.8],\n",
       "       [6.5, 3. , 5.8, 2.2],\n",
       "       [7.6, 3. , 6.6, 2.1],\n",
       "       [4.9, 2.5, 4.5, 1.7],\n",
       "       [7.3, 2.9, 6.3, 1.8],\n",
       "       [6.7, 2.5, 5.8, 1.8],\n",
       "       [7.2, 3.6, 6.1, 2.5],\n",
       "       [6.5, 3.2, 5.1, 2. ],\n",
       "       [6.4, 2.7, 5.3, 1.9],\n",
       "       [6.8, 3. , 5.5, 2.1],\n",
       "       [5.7, 2.5, 5. , 2. ],\n",
       "       [5.8, 2.8, 5.1, 2.4],\n",
       "       [6.4, 3.2, 5.3, 2.3],\n",
       "       [6.5, 3. , 5.5, 1.8],\n",
       "       [7.7, 3.8, 6.7, 2.2],\n",
       "       [7.7, 2.6, 6.9, 2.3],\n",
       "       [6. , 2.2, 5. , 1.5],\n",
       "       [6.9, 3.2, 5.7, 2.3],\n",
       "       [5.6, 2.8, 4.9, 2. ],\n",
       "       [7.7, 2.8, 6.7, 2. ],\n",
       "       [6.3, 2.7, 4.9, 1.8],\n",
       "       [6.7, 3.3, 5.7, 2.1],\n",
       "       [7.2, 3.2, 6. , 1.8],\n",
       "       [6.2, 2.8, 4.8, 1.8],\n",
       "       [6.1, 3. , 4.9, 1.8],\n",
       "       [6.4, 2.8, 5.6, 2.1],\n",
       "       [7.2, 3. , 5.8, 1.6],\n",
       "       [7.4, 2.8, 6.1, 1.9],\n",
       "       [7.9, 3.8, 6.4, 2. ],\n",
       "       [6.4, 2.8, 5.6, 2.2],\n",
       "       [6.3, 2.8, 5.1, 1.5],\n",
       "       [6.1, 2.6, 5.6, 1.4],\n",
       "       [7.7, 3. , 6.1, 2.3],\n",
       "       [6.3, 3.4, 5.6, 2.4],\n",
       "       [6.4, 3.1, 5.5, 1.8],\n",
       "       [6. , 3. , 4.8, 1.8],\n",
       "       [6.9, 3.1, 5.4, 2.1],\n",
       "       [6.7, 3.1, 5.6, 2.4],\n",
       "       [6.9, 3.1, 5.1, 2.3],\n",
       "       [5.8, 2.7, 5.1, 1.9],\n",
       "       [6.8, 3.2, 5.9, 2.3],\n",
       "       [6.7, 3.3, 5.7, 2.5],\n",
       "       [6.7, 3. , 5.2, 2.3],\n",
       "       [6.3, 2.5, 5. , 1.9],\n",
       "       [6.5, 3. , 5.2, 2. ],\n",
       "       [6.2, 3.4, 5.4, 2.3],\n",
       "       [5.9, 3. , 5.1, 1.8]])"
      ]
     },
     "execution_count": 154,
     "metadata": {},
     "output_type": "execute_result"
    }
   ],
   "source": [
    "iris"
   ]
  },
  {
   "cell_type": "code",
   "execution_count": 155,
   "id": "bccf9030-72f3-4f7f-a64f-2e8e7d2a3761",
   "metadata": {},
   "outputs": [],
   "source": [
    "data = pd.read_csv(\"iris.csv\")"
   ]
  },
  {
   "cell_type": "code",
   "execution_count": 157,
   "id": "77e35fdc-d063-4c4f-8361-cfbdbb0378da",
   "metadata": {},
   "outputs": [],
   "source": [
    "data = data.iloc[:,1:]"
   ]
  },
  {
   "cell_type": "code",
   "execution_count": 159,
   "id": "87eeb9d5-ec68-4f74-a748-264eff755925",
   "metadata": {},
   "outputs": [],
   "source": [
    "data = data.iloc[:,:-1]"
   ]
  },
  {
   "cell_type": "code",
   "execution_count": 161,
   "id": "50ac6120-a88c-4138-ac8b-cb4a23a0c1aa",
   "metadata": {},
   "outputs": [],
   "source": [
    "x = data[\"sepal length (cm)\"]"
   ]
  },
  {
   "cell_type": "code",
   "execution_count": 171,
   "id": "11eecc80-f799-4e02-af0c-dabb097b3e82",
   "metadata": {},
   "outputs": [],
   "source": [
    "from sklearn.cluster import KMeans\n",
    "kmeans = KMeans(4)"
   ]
  },
  {
   "cell_type": "code",
   "execution_count": 174,
   "id": "017404ee-04b5-4d45-9c2c-c373233619f6",
   "metadata": {},
   "outputs": [
    {
     "data": {
      "text/plain": [
       "KMeans(n_clusters=4)"
      ]
     },
     "execution_count": 174,
     "metadata": {},
     "output_type": "execute_result"
    }
   ],
   "source": [
    "kmeans.fit(x)"
   ]
  },
  {
   "cell_type": "code",
   "execution_count": 175,
   "id": "75ee70ec-4e3e-4004-9c7f-fd0b85726e9a",
   "metadata": {},
   "outputs": [
    {
     "data": {
      "text/plain": [
       "array([2, 2, 2, 2, 2, 1, 2, 2, 2, 2, 1, 2, 2, 2, 1, 1, 1, 2, 1, 2, 1, 2,\n",
       "       2, 2, 2, 2, 2, 2, 2, 2, 2, 1, 2, 1, 2, 2, 1, 2, 2, 2, 2, 2, 2, 2,\n",
       "       2, 2, 2, 2, 1, 2, 3, 0, 0, 1, 0, 1, 0, 2, 0, 2, 2, 1, 1, 0, 1, 0,\n",
       "       1, 1, 0, 1, 1, 0, 0, 0, 0, 0, 0, 0, 1, 1, 1, 1, 1, 1, 1, 1, 0, 0,\n",
       "       1, 1, 1, 0, 1, 2, 1, 1, 1, 0, 2, 1, 0, 1, 3, 0, 0, 3, 2, 3, 0, 3,\n",
       "       0, 0, 0, 1, 1, 0, 0, 3, 3, 1, 0, 1, 3, 0, 0, 3, 0, 0, 0, 3, 3, 3,\n",
       "       0, 0, 0, 3, 0, 0, 1, 0, 0, 0, 1, 0, 0, 0, 0, 0, 0, 1], dtype=int32)"
      ]
     },
     "execution_count": 175,
     "metadata": {},
     "output_type": "execute_result"
    }
   ],
   "source": [
    "kmeans.labels_"
   ]
  },
  {
   "cell_type": "code",
   "execution_count": null,
   "id": "ff4057cf-0d72-4a2e-8825-93200e1d28b4",
   "metadata": {},
   "outputs": [],
   "source": []
  }
 ],
 "metadata": {
  "kernelspec": {
   "display_name": "Python 3 (ipykernel)",
   "language": "python",
   "name": "python3"
  },
  "language_info": {
   "codemirror_mode": {
    "name": "ipython",
    "version": 3
   },
   "file_extension": ".py",
   "mimetype": "text/x-python",
   "name": "python",
   "nbconvert_exporter": "python",
   "pygments_lexer": "ipython3",
   "version": "3.9.7"
  }
 },
 "nbformat": 4,
 "nbformat_minor": 5
}
