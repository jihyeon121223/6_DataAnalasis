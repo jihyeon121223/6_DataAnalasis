{
 "cells": [
  {
   "cell_type": "code",
   "execution_count": 218,
   "id": "88bf0d1f-4610-473f-b838-1ea4882d5128",
   "metadata": {},
   "outputs": [],
   "source": [
    "import warnings\n",
    "warnings.filterwarnings(action='ignore')\n",
    "\n",
    "import numpy as np\n",
    "import pandas as pd\n",
    "\n",
    "import matplotlib.pyplot as plt\n",
    "\n",
    "from sklearn.preprocessing import OneHotEncoder, LabelEncoder\n",
    "from sklearn.compose import make_column_transformer\n",
    "from sklearn.model_selection import train_test_split\n",
    "\n",
    "from sklearn.ensemble import RandomForestClassifier, AdaBoostClassifier\n",
    "from sklearn.linear_model import LogisticRegression\n",
    "from sklearn.svm import SVC\n",
    "from sklearn.neighbors import KNeighborsClassifier\n",
    "import xgboost"
   ]
  },
  {
   "cell_type": "code",
   "execution_count": 197,
   "id": "8ad41775-6115-4fab-b7d1-274b4e76fc67",
   "metadata": {},
   "outputs": [],
   "source": [
    "df = pd.read_csv(\"data/titanic.csv\")"
   ]
  },
  {
   "cell_type": "code",
   "execution_count": 198,
   "id": "711ba017-a589-490e-aa04-23741eaabffb",
   "metadata": {},
   "outputs": [],
   "source": [
    "## 데이터 개요\n",
    "df.head()\n",
    "## 데이터 변수 확인\n",
    "df.columns # 변수 이름들 확인\n",
    "df.columns.size # 몇개의 변수\n",
    "df.shape # 행의 개수, 열의 개수\n",
    "df.dtypes # 변수의 데이터 타입 (수치형으로 변환을 위해)\n",
    "## 특징(변수)는 반드시 na가 있으면 안되므로 na 확인\n",
    "df.isna().sum()\n",
    "## 필요한 컬럼만 셀렉트\n",
    "selected_cols = [\"Pclass\",\"Name\",\"Sex\",\"Age\",\"SibSp\",\"Parch\",\"Ticket\",\"Fare\",\"Cabin\",\"Embarked\",\"Survived\"]\n",
    "data = df[selected_cols]"
   ]
  },
  {
   "cell_type": "code",
   "execution_count": 199,
   "id": "67193c9c-551b-4fa1-b3ee-ef52d8d8eb8e",
   "metadata": {},
   "outputs": [],
   "source": [
    "## 분석데이터 개요\n",
    "data.head()\n",
    "## 데이터 변수 확인\n",
    "data.columns # 변수 이름들 확인\n",
    "data.columns.size # 몇개의 변수\n",
    "data.shape # 행의 개수, 열의 개수\n",
    "data.dtypes # 변수의 데이터 타입 (수치형으로 변환을 위해)\n",
    "## 특징(변수)는 반드시 na가 있으면 안되므로 na 확인\n",
    "data.isna().sum()\n",
    "#data.info()\n",
    "## Na 정리\n",
    "#1. drop데이터 선별 (컬럼)\n",
    "# Cabin \n",
    "#2. drop데이터 선별 (로우)\n",
    "#Embarked\n",
    "#data.drop(data.Embarked.isna(),axis=0)\n",
    "data = data.loc[~data.Embarked.isna(),:]"
   ]
  },
  {
   "cell_type": "code",
   "execution_count": 200,
   "id": "b253daeb-6318-47a3-920f-7dade8a38d5c",
   "metadata": {},
   "outputs": [],
   "source": [
    "## Cabin imputation\n",
    "# 수치형 --> 세심한 주의(평균 사용시 주의 요망)\n",
    "# 범주형데이터 --> real Na? 범주외의 대체값\n",
    "## Cabin EDA \n",
    "data.Cabin.str[:1].value_counts()\n",
    "data.Cabin.fillna(\"N\",inplace=True)\n",
    "data.isna().sum()\n",
    "data.Cabin.str[:1].value_counts()\n",
    "newCabin = data.Cabin.str[:1]\n",
    "data.drop(\"Cabin\",axis=1,inplace=True)\n",
    "data[\"Cabin\"] = newCabin"
   ]
  },
  {
   "cell_type": "code",
   "execution_count": 201,
   "id": "8158ccca-ca18-4bbc-89eb-bd95bcccba59",
   "metadata": {},
   "outputs": [],
   "source": [
    "## Age imputaion\n",
    "## Age EDA\n",
    "data.Age.describe()\n",
    "data.loc[data.Age <= 18,:] ##\n",
    "data.loc[data.Age.isna(),[\"Pclass\",\"Fare\"]] ## Age값이 NUll인 사람의 선실과 요금\n",
    "data.groupby([\"Pclass\",\"Sex\"])[\"Fare\"].mean()\n",
    "\n",
    "## Age 예측을 위한 회귀모델 생성\n",
    "\n",
    "df_age = data.loc[~data.Age.isna(),[\"Pclass\",\"Sex\",\"Fare\",\"Embarked\",\"Age\"]]\n",
    "pred_age = data.loc[data.Age.isna(),[\"Pclass\",\"Sex\",\"Fare\",\"Embarked\"]]\n",
    "le_sex = LabelEncoder()\n",
    "le_sex.fit(df_age.Sex)\n",
    "newSex = le_sex.transform(df_age.Sex)\n",
    "le_embarked = LabelEncoder()\n",
    "le_embarked.fit(df_age.Embarked)\n",
    "newEmbarked = le_embarked.transform(df_age.Embarked)\n",
    "df_age.drop([\"Sex\",\"Embarked\"],axis=1,inplace=True)\n",
    "newCols = np.c_[newSex,newEmbarked]\n",
    "df_age = pd.concat([pd.DataFrame(newCols,index=df_age.index),df_age],axis=1)\n",
    "age_model = RandomForestRegressor()\n",
    "age_model.fit(df_age.iloc[:,:-1],df_age.iloc[:,-1])\n",
    "\n",
    "## Null 예측실행\n",
    "newSex = le_sex.transform(pred_age.Sex)\n",
    "newEmbarked = le_embarked.transform(pred_age.Embarked)\n",
    "pred_age.drop([\"Sex\",\"Embarked\"],axis=1,inplace=True)\n",
    "newCols = np.c_[newSex,newEmbarked]\n",
    "pred_age = pd.concat([pd.DataFrame(newCols,index=pred_age.index),pred_age],axis=1)\n",
    "newAge = age_model.predict(pred_age)\n",
    "pred_age[\"Age\"] = newAge\n",
    "\n",
    "## \n",
    "newAge = pd.merge(df_age,pred_age,how=\"outer\")[[\"Age\"]]\n",
    "newAge.reset_index(inplace=True)\n",
    "newAge.drop(\"index\",axis=1,inplace=True)\n",
    "\n",
    "## data에 newAge컬럼 추가\n",
    "data.reset_index(inplace=True)\n",
    "data.drop([\"Age\",\"index\"],axis=1,inplace=True)\n",
    "data[\"Age\"] = newAge\n"
   ]
  },
  {
   "cell_type": "code",
   "execution_count": 202,
   "id": "a4161cc4-855b-42e0-b69f-b13d285315ec",
   "metadata": {},
   "outputs": [],
   "source": [
    "## 파생변수 생성 (Name) 결혼유무판단\n",
    "## data.Name에서 Mrs. 가 존재하면 기혼\n",
    "## data.Name에서 Mr. 가족(SibSp)이 있으면 기혼 혹은 25세 이상이면 기혼\n",
    "married = np.where((data.Name.str.contains(\"Mrs.\")) | ((data.Name.str.contains(\"Mr.\")) & (data.SibSp >0)),1,0)\n",
    "data[\"Married\"] = married"
   ]
  },
  {
   "cell_type": "code",
   "execution_count": 203,
   "id": "1cc6796b-b7f4-4f28-b295-91b7b840e031",
   "metadata": {},
   "outputs": [
    {
     "data": {
      "text/plain": [
       "Pclass        int64\n",
       "Sex          object\n",
       "SibSp         int64\n",
       "Parch         int64\n",
       "Fare        float64\n",
       "Embarked     object\n",
       "Survived      int64\n",
       "Cabin        object\n",
       "Age         float64\n",
       "Married       int64\n",
       "dtype: object"
      ]
     },
     "execution_count": 203,
     "metadata": {},
     "output_type": "execute_result"
    }
   ],
   "source": [
    "## Name, Ticket컬럼 제거\n",
    "data.drop([\"Name\",\"Ticket\"],axis=1,inplace=True)\n",
    "data.head()\n",
    "## data 컬럼 타입확인\n",
    "data.dtypes"
   ]
  },
  {
   "cell_type": "code",
   "execution_count": 185,
   "id": "d7e0414f-5728-4c02-a7d7-90a9eb90f44a",
   "metadata": {},
   "outputs": [],
   "source": [
    "## preprocessing \n",
    "# categorical 변수에서 종류(unique)가 2개 이면 정수인코딩, 나머지는 원핫인코딩\n",
    "# obj = data.dtypes[data.dtypes == \"object\"].index\n",
    "# data[obj[0]].unique().size\n",
    "# 수치형(연속형)변수일 경우 정규화(MinMax, Robust, Standard)\n",
    "# mmScale = (X-np.min(X))/(np.max(X)-np.min(x))\n",
    "# rbScale = (X - np.percetile(X,50))/(np.percentile(X,75) - np.percentile(X,25))\n",
    "# stScale = (X - np.mean(x))/(np.sd(X))"
   ]
  },
  {
   "cell_type": "code",
   "execution_count": 204,
   "id": "2259d962-51d8-49e3-bc2b-3503072a4490",
   "metadata": {},
   "outputs": [],
   "source": [
    "newAge = np.where(data.Age > np.percentile(data.Age,90),0,\n",
    "                  np.where(data.Age > np.percentile(data.Age,75),1,\n",
    "                           np.where(data.Age > np.percentile(data.Age,25),2,3)))\n",
    "data.drop(\"Age\",axis=1,inplace=True)\n",
    "data[\"Age\"] = newAge"
   ]
  },
  {
   "cell_type": "code",
   "execution_count": 205,
   "id": "cf85c4f1-7737-4a6c-8a9d-ae13da275a42",
   "metadata": {},
   "outputs": [
    {
     "data": {
      "text/plain": [
       "(889, 39)"
      ]
     },
     "execution_count": 205,
     "metadata": {},
     "output_type": "execute_result"
    }
   ],
   "source": [
    "# from sklearn.preprocessing import OneHotEncoder, LabelEncoder\n",
    "# newPclass = OneHotEncoder().fit_transform(data[[\"Pclass\"]]).toarray()\n",
    "# newSex = OneHotEncoder().fit_transform(data[[\"Sex\"]]).toarray()\n",
    "# newSibSp = OneHotEncoder().fit_transform(data[[\"SibSp\"]]).toarray()\n",
    "# newCols = np.c_[newPclass,newSex,newSibSp]\n",
    "# newCols.shape\n",
    "\n",
    "\n",
    "selected_cols = [\"Pclass\",\"Sex\",\"Parch\",\"SibSp\",\"Age\",\"Embarked\",\"Cabin\",\"Married\"]\n",
    "ct = make_column_transformer(\n",
    "    (OneHotEncoder(),selected_cols)\n",
    ")\n",
    "newCols = ct.fit_transform(data).toarray()\n",
    "data.drop(selected_cols,axis=1,inplace=True)\n",
    "data = pd.concat([pd.DataFrame(newCols),data],axis=1)\n",
    "data.shape"
   ]
  },
  {
   "cell_type": "code",
   "execution_count": 258,
   "id": "9f69d97b-09e8-47dd-8a22-4c2d4c569253",
   "metadata": {},
   "outputs": [],
   "source": [
    "## Train, test 분리\n",
    "X = data.iloc[:,:-1]\n",
    "y = data.iloc[:,-1]\n",
    "X_train, X_test, y_train, y_test = train_test_split(X,y, test_size=0.2)"
   ]
  },
  {
   "cell_type": "code",
   "execution_count": 266,
   "id": "0174f50d-da1c-4f4a-bbcc-9134238c1833",
   "metadata": {},
   "outputs": [],
   "source": [
    "## Model Instance 생성\n",
    "rf_model = RandomForestClassifier() \n",
    "ada_model = AdaBoostClassifier()\n",
    "lr_model = LogisticRegression()\n",
    "svc_model = SVC(probability=True)\n",
    "meta_model = KNeighborsClassifier()\n",
    "xgb_param = {\n",
    "    \"n_estimators\":100, \n",
    "     \"learning_rate\":0.08, \n",
    "     \"gamma\":0, \n",
    "      \"subsample\":0.75,\n",
    "      \"colsample_bytree\":1, \n",
    "      \"max_depth\":7,\n",
    "    \"verbosity\":0\n",
    "}\n",
    "xgb_model = xgboost.XGBClassifier(**xgb_param)"
   ]
  },
  {
   "cell_type": "code",
   "execution_count": 267,
   "id": "834264e8-e81d-4609-a52a-f3f5608a89c9",
   "metadata": {},
   "outputs": [
    {
     "data": {
      "text/plain": [
       "XGBClassifier(base_score=0.5, booster='gbtree', colsample_bylevel=1,\n",
       "              colsample_bynode=1, colsample_bytree=1, enable_categorical=False,\n",
       "              gamma=0, gpu_id=-1, importance_type=None,\n",
       "              interaction_constraints='', learning_rate=0.08, max_delta_step=0,\n",
       "              max_depth=7, min_child_weight=1, missing=nan,\n",
       "              monotone_constraints='()', n_estimators=100, n_jobs=1,\n",
       "              num_parallel_tree=1, predictor='auto', random_state=0,\n",
       "              reg_alpha=0, reg_lambda=1, scale_pos_weight=1, subsample=0.75,\n",
       "              tree_method='exact', validate_parameters=1, verbosity=0)"
      ]
     },
     "execution_count": 267,
     "metadata": {},
     "output_type": "execute_result"
    }
   ],
   "source": [
    "## Model Training\n",
    "rf_model.fit(X_train,y_train)\n",
    "ada_model.fit(X_train,y_train)\n",
    "lr_model.fit(X_train,y_train)\n",
    "svc_model.fit(X_train,y_train)\n",
    "xgb_model.fit(X_train,y_train)"
   ]
  },
  {
   "cell_type": "code",
   "execution_count": 268,
   "id": "7daaa3bb-24ac-4fd7-af02-290e43d7567c",
   "metadata": {},
   "outputs": [],
   "source": [
    "rf_result = rf_model.predict_proba(X_test)\n",
    "ada_result = ada_model.predict_proba(X_test)\n",
    "lr_result = lr_model.predict_proba(X_test)\n",
    "svc_result = svc_model.predict_proba(X_test)\n",
    "xgb_result = xgb_model.predict_proba(X_test)\n",
    "hard_voting_result = rf_model.predict(X_test)+ada_model.predict(X_test)+lr_model.predict(X_test)+svc_model.predict(X_test)+xgb_model.predict(X_test)\n",
    "hard_acc = sum(np.where(hard_voting_result > 2,1,0) == y_test)/hard_voting_result.size"
   ]
  },
  {
   "cell_type": "code",
   "execution_count": 269,
   "id": "774efd41-e120-4bae-b7b6-fbbd9beb9c37",
   "metadata": {},
   "outputs": [
    {
     "name": "stdout",
     "output_type": "stream",
     "text": [
      "rf_model : 0.8258426966292135\n",
      "ada_model : 0.8146067415730337\n",
      "lr_model : 0.8370786516853933\n",
      "svc_model : 0.7303370786516854\n",
      "xgb_model : 0.8202247191011236\n",
      "hard_voting_model : 0.8258426966292135\n"
     ]
    }
   ],
   "source": [
    "print(\"rf_model :\",rf_model.score(X_test,y_test))\n",
    "print(\"ada_model :\",ada_model.score(X_test,y_test))\n",
    "print(\"lr_model :\",lr_model.score(X_test,y_test))\n",
    "print(\"svc_model :\",svc_model.score(X_test,y_test))\n",
    "print(\"xgb_model :\",xgb_model.score(X_test,y_test))\n",
    "print(\"hard_voting_model :\",hard_acc)"
   ]
  },
  {
   "cell_type": "code",
   "execution_count": 270,
   "id": "47cea7e7-feea-4bf5-9b1c-bb5979b1dbc6",
   "metadata": {},
   "outputs": [],
   "source": [
    "## Meta Model의 train x 생성\n",
    "v1 = rf_model.predict(X_train)\n",
    "v2 = ada_model.predict(X_train)\n",
    "v3 = lr_model.predict(X_train)\n",
    "v4 = svc_model.predict(X_train)\n",
    "v5 = xgb_model.predict(X_train)\n",
    "X_train_meta = np.c_[v1,v2,v3,v4,v5]"
   ]
  },
  {
   "cell_type": "code",
   "execution_count": 271,
   "id": "69ec3a95-f8d3-407d-84cb-3fc8dc84f640",
   "metadata": {},
   "outputs": [
    {
     "data": {
      "text/plain": [
       "KNeighborsClassifier()"
      ]
     },
     "execution_count": 271,
     "metadata": {},
     "output_type": "execute_result"
    }
   ],
   "source": [
    "## Meta Model 학습\n",
    "meta_model.fit(X_train_meta,y_train)"
   ]
  },
  {
   "cell_type": "markdown",
   "id": "fc809ed2",
   "metadata": {},
   "source": []
  },
  {
   "cell_type": "code",
   "execution_count": 274,
   "id": "f3b33cfa-d9d7-431b-bc31-e7279084bc7d",
   "metadata": {},
   "outputs": [],
   "source": [
    "## Meta Model test x 생성\n",
    "v1 = rf_model.predict(X_test)\n",
    "v2 = ada_model.predict(X_test)\n",
    "v3 = lr_model.predict(X_test)\n",
    "v4 = svc_model.predict(X_test)\n",
    "v5 = xgb_model.predict(X_test)\n",
    "X_test_meta = np.c_[v1,v2,v3,v4,v5]"
   ]
  },
  {
   "cell_type": "code",
   "execution_count": 275,
   "id": "de3b8461-7a15-4e34-b3eb-98f6b13160c8",
   "metadata": {},
   "outputs": [
    {
     "data": {
      "text/plain": [
       "0.8258426966292135"
      ]
     },
     "execution_count": 275,
     "metadata": {},
     "output_type": "execute_result"
    }
   ],
   "source": [
    "## Meta Model 검증\n",
    "meta_model.score(X_test_meta,y_test)"
   ]
  },
  {
   "cell_type": "code",
   "execution_count": 256,
   "id": "ab76921a-689e-401d-8331-ea89d7eee851",
   "metadata": {},
   "outputs": [],
   "source": [
    "X_meta_test = np.c_[rf_model.predict(X_test),ada_model.predict(X_test)]"
   ]
  },
  {
   "cell_type": "code",
   "execution_count": 257,
   "id": "ca595918-65a4-4a7c-92d3-aadd4aa837e0",
   "metadata": {},
   "outputs": [
    {
     "data": {
      "text/plain": [
       "0.7921348314606742"
      ]
     },
     "execution_count": 257,
     "metadata": {},
     "output_type": "execute_result"
    }
   ],
   "source": [
    "sum(xgb_model.predict(X_meta_test) == y_test)/y_test.size"
   ]
  },
  {
   "cell_type": "code",
   "execution_count": null,
   "id": "19a081bd-5488-4772-abf8-62e6b7be6d98",
   "metadata": {},
   "outputs": [],
   "source": []
  }
 ],
 "metadata": {
  "kernelspec": {
   "display_name": "Python 3 (ipykernel)",
   "language": "python",
   "name": "python3"
  },
  "language_info": {
   "codemirror_mode": {
    "name": "ipython",
    "version": 3
   },
   "file_extension": ".py",
   "mimetype": "text/x-python",
   "name": "python",
   "nbconvert_exporter": "python",
   "pygments_lexer": "ipython3",
   "version": "3.9.7"
  }
 },
 "nbformat": 4,
 "nbformat_minor": 5
}
