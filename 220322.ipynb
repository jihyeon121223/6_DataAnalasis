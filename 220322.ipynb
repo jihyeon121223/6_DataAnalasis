{
 "cells": [
  {
   "cell_type": "code",
   "execution_count": 11,
   "id": "0e045f2b-0796-4df3-823d-93dbc9645be1",
   "metadata": {},
   "outputs": [],
   "source": [
    "#교재 1.0-4"
   ]
  },
  {
   "cell_type": "code",
   "execution_count": 5,
   "id": "6e1bd3c8-9245-486c-afb7-715f20200764",
   "metadata": {},
   "outputs": [
    {
     "name": "stdout",
     "output_type": "stream",
     "text": [
      "CPU times: user 5.94 ms, sys: 0 ns, total: 5.94 ms\n",
      "Wall time: 6.46 ms\n"
     ]
    }
   ],
   "source": [
    "%%time\n",
    "s=0\n",
    "for i in range(100000):\n",
    "    s += i"
   ]
  },
  {
   "cell_type": "code",
   "execution_count": 6,
   "id": "cddbe625-d24f-447d-8f23-dbcd2153d41e",
   "metadata": {},
   "outputs": [
    {
     "name": "stdout",
     "output_type": "stream",
     "text": [
      "#교재4장\n",
      "%%time\n",
      "s=0\n",
      "for i in range(100000):\n",
      "    s += i\n",
      "%histopry\n",
      "%history\n",
      "#교재4장\n",
      "%%time\n",
      "s=0\n",
      "for i in range(100000):\n",
      "    s += i\n",
      "%history\n"
     ]
    }
   ],
   "source": [
    "%history"
   ]
  },
  {
   "cell_type": "code",
   "execution_count": 10,
   "id": "c4cd6de5-f658-49d6-88ef-c8caf013d504",
   "metadata": {},
   "outputs": [],
   "source": [
    "#교재 2.0"
   ]
  },
  {
   "cell_type": "code",
   "execution_count": 8,
   "id": "bda0bbed-fadb-4bd2-bac4-dba8bc2b1bf5",
   "metadata": {},
   "outputs": [],
   "source": [
    "import numpy as np #선형대수"
   ]
  },
  {
   "cell_type": "code",
   "execution_count": 9,
   "id": "87cd1f5e-4d32-4fb8-bb33-5efd63e91c7a",
   "metadata": {},
   "outputs": [
    {
     "data": {
      "text/plain": [
       "'1.20.3'"
      ]
     },
     "execution_count": 9,
     "metadata": {},
     "output_type": "execute_result"
    }
   ],
   "source": [
    "np.__version__"
   ]
  },
  {
   "cell_type": "code",
   "execution_count": 15,
   "id": "2b1d139a-6f59-4162-b962-da10cb0c17da",
   "metadata": {},
   "outputs": [
    {
     "data": {
      "text/plain": [
       "[0, 1, 2, 3, 4, 5, 6, 7, 8, 9]"
      ]
     },
     "execution_count": 15,
     "metadata": {},
     "output_type": "execute_result"
    }
   ],
   "source": [
    "type(range(10))\n",
    "L = list(range(10))\n",
    "L"
   ]
  },
  {
   "cell_type": "code",
   "execution_count": 14,
   "id": "39688a8b-db2c-4e7c-a382-76e692066812",
   "metadata": {},
   "outputs": [
    {
     "data": {
      "text/plain": [
       "list"
      ]
     },
     "execution_count": 14,
     "metadata": {},
     "output_type": "execute_result"
    }
   ],
   "source": [
    "type(list(range(10)))"
   ]
  },
  {
   "cell_type": "code",
   "execution_count": 16,
   "id": "1d790ca3-1c8d-49d0-b7c4-386172013059",
   "metadata": {},
   "outputs": [
    {
     "data": {
      "text/plain": [
       "int"
      ]
     },
     "execution_count": 16,
     "metadata": {},
     "output_type": "execute_result"
    }
   ],
   "source": [
    "type(L[0])"
   ]
  },
  {
   "cell_type": "code",
   "execution_count": 17,
   "id": "57aeda75-9003-497b-bb93-ddeae915ddd8",
   "metadata": {},
   "outputs": [
    {
     "data": {
      "text/plain": [
       "['0', '1', '2', '3', '4', '5', '6', '7', '8', '9']"
      ]
     },
     "execution_count": 17,
     "metadata": {},
     "output_type": "execute_result"
    }
   ],
   "source": [
    "L2 = []\n",
    "for i in L:\n",
    "    L2.append(str(i))\n",
    "L2"
   ]
  },
  {
   "cell_type": "code",
   "execution_count": 18,
   "id": "19e6f3d1-3f9c-4db6-a024-de9c25ce80a2",
   "metadata": {},
   "outputs": [],
   "source": [
    "#리스트 컴프레션으로 쓰기"
   ]
  },
  {
   "cell_type": "code",
   "execution_count": 20,
   "id": "54273b36-e88d-4f02-b9aa-197946ed8f9e",
   "metadata": {},
   "outputs": [
    {
     "data": {
      "text/plain": [
       "['0', '1', '2', '3', '4', '5', '6', '7', '8', '9']"
      ]
     },
     "execution_count": 20,
     "metadata": {},
     "output_type": "execute_result"
    }
   ],
   "source": [
    "L2=[str(c) for c in L]\n",
    "L2"
   ]
  },
  {
   "cell_type": "code",
   "execution_count": 28,
   "id": "a1d462e9-d7f1-428e-b5e5-613bae924755",
   "metadata": {},
   "outputs": [],
   "source": [
    "l=([1, 4, 2, 5, 3])\n",
    "nl=np.array([1, 4, 2, 5, 3]) #새로운 데이터 특징"
   ]
  },
  {
   "cell_type": "code",
   "execution_count": 29,
   "id": "574ebe5b-a2d3-4a9d-b98a-bcc597e23864",
   "metadata": {},
   "outputs": [
    {
     "data": {
      "text/plain": [
       "False"
      ]
     },
     "execution_count": 29,
     "metadata": {},
     "output_type": "execute_result"
    }
   ],
   "source": [
    "l[0] > 3 #한 값을 가져오면 "
   ]
  },
  {
   "cell_type": "code",
   "execution_count": 30,
   "id": "f90da734-256b-42a9-8f9f-26041660c1fa",
   "metadata": {},
   "outputs": [
    {
     "data": {
      "text/plain": [
       "array([False,  True, False,  True, False])"
      ]
     },
     "execution_count": 30,
     "metadata": {},
     "output_type": "execute_result"
    }
   ],
   "source": [
    "nl > 3"
   ]
  },
  {
   "cell_type": "code",
   "execution_count": 31,
   "id": "baaa3e2b-8d4a-4e8d-a896-544cf55e66a8",
   "metadata": {},
   "outputs": [
    {
     "data": {
      "text/plain": [
       "[4, 5]"
      ]
     },
     "execution_count": 31,
     "metadata": {},
     "output_type": "execute_result"
    }
   ],
   "source": [
    "new=[] #옛날방식\n",
    "for i in l:\n",
    "    if i>3:\n",
    "        new.append(i)\n",
    "new"
   ]
  },
  {
   "cell_type": "code",
   "execution_count": 35,
   "id": "633949ba-ede1-4b93-ace3-413dca977d4f",
   "metadata": {},
   "outputs": [
    {
     "data": {
      "text/plain": [
       "numpy.ndarray"
      ]
     },
     "execution_count": 35,
     "metadata": {},
     "output_type": "execute_result"
    }
   ],
   "source": [
    "type(nl)"
   ]
  },
  {
   "cell_type": "code",
   "execution_count": 36,
   "id": "25e1d609-de7f-4ab7-8f76-5b8ec52188a2",
   "metadata": {},
   "outputs": [
    {
     "data": {
      "text/plain": [
       "dtype('int64')"
      ]
     },
     "execution_count": 36,
     "metadata": {},
     "output_type": "execute_result"
    }
   ],
   "source": [
    "nl.dtype"
   ]
  },
  {
   "cell_type": "code",
   "execution_count": 37,
   "id": "41444c25-4a08-4d67-8179-4175031b2d4a",
   "metadata": {},
   "outputs": [
    {
     "data": {
      "text/plain": [
       "int"
      ]
     },
     "execution_count": 37,
     "metadata": {},
     "output_type": "execute_result"
    }
   ],
   "source": [
    "type(l[0])"
   ]
  },
  {
   "cell_type": "code",
   "execution_count": 39,
   "id": "0288d954-4d22-4886-afd1-91b8ab020f21",
   "metadata": {},
   "outputs": [
    {
     "data": {
      "text/plain": [
       "dtype('float64')"
      ]
     },
     "execution_count": 39,
     "metadata": {},
     "output_type": "execute_result"
    }
   ],
   "source": [
    "nl=np.array([3.14,1,2,3])\n",
    "nl.dtype"
   ]
  },
  {
   "cell_type": "code",
   "execution_count": 42,
   "id": "1779be0f-5065-4b86-a75b-c349c6aece65",
   "metadata": {},
   "outputs": [
    {
     "data": {
      "text/plain": [
       "dtype('float32')"
      ]
     },
     "execution_count": 42,
     "metadata": {},
     "output_type": "execute_result"
    }
   ],
   "source": [
    "nl=np.array([3.14,1,2,3], dtype=np.float32)\n",
    "nl.dtype"
   ]
  },
  {
   "cell_type": "code",
   "execution_count": 43,
   "id": "b873af03-5617-438f-bdef-a845fa36767b",
   "metadata": {},
   "outputs": [
    {
     "data": {
      "text/plain": [
       "dtype('float64')"
      ]
     },
     "execution_count": 43,
     "metadata": {},
     "output_type": "execute_result"
    }
   ],
   "source": [
    "nl=np.array([3.14,1,2,3], dtype=\"float\") #디폴트값 64\n",
    "nl.dtype"
   ]
  },
  {
   "cell_type": "code",
   "execution_count": 44,
   "id": "5b16c313-aee8-4a5a-ac68-5b0c3b1e49c3",
   "metadata": {},
   "outputs": [],
   "source": [
    "#array: "
   ]
  },
  {
   "cell_type": "code",
   "execution_count": 45,
   "id": "4e358787-599c-44f0-89ee-698eda393e52",
   "metadata": {},
   "outputs": [
    {
     "data": {
      "text/plain": [
       "(4,)"
      ]
     },
     "execution_count": 45,
     "metadata": {},
     "output_type": "execute_result"
    }
   ],
   "source": [
    "nl.shape #차원이 없음 "
   ]
  },
  {
   "cell_type": "code",
   "execution_count": 49,
   "id": "29d16da2-4861-4cd8-b0e8-2541b90b572c",
   "metadata": {},
   "outputs": [
    {
     "data": {
      "text/plain": [
       "(4, 1)"
      ]
     },
     "execution_count": 49,
     "metadata": {},
     "output_type": "execute_result"
    }
   ],
   "source": [
    "nl=np.array([[3.14],[1],[2],[3]], dtype=\"float\")\n",
    "nl.shape"
   ]
  },
  {
   "cell_type": "code",
   "execution_count": 52,
   "id": "972e7a66-4f55-451c-970d-0c5722f0963b",
   "metadata": {},
   "outputs": [
    {
     "data": {
      "text/plain": [
       "(3, 3)"
      ]
     },
     "execution_count": 52,
     "metadata": {},
     "output_type": "execute_result"
    }
   ],
   "source": [
    "#다차원 \n",
    "nl=np.array([range(i, i + 3) for i in [2, 4, 6]], dtype=np.int32)\n",
    "nl.shape"
   ]
  },
  {
   "cell_type": "code",
   "execution_count": 55,
   "id": "c1a575ff-883a-4dbf-893a-7238dec4bed9",
   "metadata": {},
   "outputs": [
    {
     "data": {
      "text/plain": [
       "array([[0., 0., 0., 0., 0.],\n",
       "       [0., 0., 0., 0., 0.],\n",
       "       [0., 0., 0., 0., 0.],\n",
       "       [0., 0., 0., 0., 0.]])"
      ]
     },
     "execution_count": 55,
     "metadata": {},
     "output_type": "execute_result"
    }
   ],
   "source": [
    "np.zeros((4,5)) #.dtype #행렬안 변수로 구성"
   ]
  },
  {
   "cell_type": "code",
   "execution_count": 56,
   "id": "803b354d-19f1-4b95-adc6-bf2cd03623cd",
   "metadata": {},
   "outputs": [
    {
     "data": {
      "text/plain": [
       "array([[1., 1., 1., 1., 1.],\n",
       "       [1., 1., 1., 1., 1.],\n",
       "       [1., 1., 1., 1., 1.],\n",
       "       [1., 1., 1., 1., 1.]])"
      ]
     },
     "execution_count": 56,
     "metadata": {},
     "output_type": "execute_result"
    }
   ],
   "source": [
    "np.ones((4,5))"
   ]
  },
  {
   "cell_type": "code",
   "execution_count": 57,
   "id": "e3df2589-dc7a-44ab-bed9-35bbc09e8573",
   "metadata": {},
   "outputs": [
    {
     "data": {
      "text/plain": [
       "array([[5, 5, 5],\n",
       "       [5, 5, 5]])"
      ]
     },
     "execution_count": 57,
     "metadata": {},
     "output_type": "execute_result"
    }
   ],
   "source": [
    "np.full((2,3),5) #행렬을 5로 채워라"
   ]
  },
  {
   "cell_type": "code",
   "execution_count": 58,
   "id": "30f74aa8-1397-4ae4-88ec-720ba8758a5f",
   "metadata": {},
   "outputs": [
    {
     "data": {
      "text/plain": [
       "array([[5, 5, 5],\n",
       "       [5, 5, 5]], dtype=int16)"
      ]
     },
     "execution_count": 58,
     "metadata": {},
     "output_type": "execute_result"
    }
   ],
   "source": [
    "np.ones((2,3),dtype=np.int16)*5"
   ]
  },
  {
   "cell_type": "code",
   "execution_count": 61,
   "id": "ece9b5c7-ff0b-48a0-ad2b-8d9075492473",
   "metadata": {},
   "outputs": [
    {
     "data": {
      "text/plain": [
       "array([['a', 'a', 'a'],\n",
       "       ['a', 'a', 'a']], dtype='<U1')"
      ]
     },
     "execution_count": 61,
     "metadata": {},
     "output_type": "execute_result"
    }
   ],
   "source": [
    "np.full((2,3),\"a\") #dtype은 항상 따라다님 "
   ]
  },
  {
   "cell_type": "code",
   "execution_count": 62,
   "id": "af5047bd-9178-4056-b16c-b5af9f06c4a1",
   "metadata": {},
   "outputs": [
    {
     "data": {
      "text/plain": [
       "[0, 1, 2, 3, 4, 5, 6, 7, 8, 9, 10, 11, 12, 13, 14, 15, 16, 17, 18, 19]"
      ]
     },
     "execution_count": 62,
     "metadata": {},
     "output_type": "execute_result"
    }
   ],
   "source": [
    "[i for i in range(20)]"
   ]
  },
  {
   "cell_type": "code",
   "execution_count": 64,
   "id": "e73920f9-84d8-4f5d-b058-b7b587651beb",
   "metadata": {},
   "outputs": [
    {
     "data": {
      "text/plain": [
       "array([ 0,  1,  2,  3,  4,  5,  6,  7,  8,  9, 10, 11, 12, 13, 14, 15, 16,\n",
       "       17, 18, 19])"
      ]
     },
     "execution_count": 64,
     "metadata": {},
     "output_type": "execute_result"
    }
   ],
   "source": [
    "# 위 식을 넘파이로 나타내기 \n",
    "np.arange(20)"
   ]
  },
  {
   "cell_type": "code",
   "execution_count": 65,
   "id": "667eb01c-aaba-49d2-adb0-e2ae5ec9c3cd",
   "metadata": {},
   "outputs": [],
   "source": [
    "#속도비교"
   ]
  },
  {
   "cell_type": "code",
   "execution_count": 68,
   "id": "3ed1d9cc-a94a-4496-bb48-5adc13ba8a7c",
   "metadata": {},
   "outputs": [
    {
     "name": "stdout",
     "output_type": "stream",
     "text": [
      "CPU times: user 22 µs, sys: 63 µs, total: 85 µs\n",
      "Wall time: 289 µs\n"
     ]
    }
   ],
   "source": [
    "%time\n",
    "l=[i for i in range(10000000)]"
   ]
  },
  {
   "cell_type": "code",
   "execution_count": 67,
   "id": "8f39432a-370d-4c6e-bd58-1e5f77106bb1",
   "metadata": {},
   "outputs": [
    {
     "name": "stdout",
     "output_type": "stream",
     "text": [
      "CPU times: user 0 ns, sys: 2 µs, total: 2 µs\n",
      "Wall time: 3.81 µs\n"
     ]
    }
   ],
   "source": [
    "%time #넘파이 쓰면 빠름\n",
    "nl=np.arange(10000000)"
   ]
  },
  {
   "cell_type": "code",
   "execution_count": 69,
   "id": "01fc6878-bd40-4bb2-aa3a-798339e8b0d0",
   "metadata": {},
   "outputs": [
    {
     "data": {
      "text/plain": [
       "array([0.  , 0.25, 0.5 , 0.75, 1.  ])"
      ]
     },
     "execution_count": 69,
     "metadata": {},
     "output_type": "execute_result"
    }
   ],
   "source": [
    "np.linspace(0, 1, 5) #로그를 이룔해서 씀 \\"
   ]
  },
  {
   "cell_type": "code",
   "execution_count": 70,
   "id": "86a998ab-a5a7-4dbd-b3c7-d6d6df45ca93",
   "metadata": {},
   "outputs": [],
   "source": [
    "#"
   ]
  },
  {
   "cell_type": "code",
   "execution_count": 72,
   "id": "6d0948dd-751a-4abc-b6c5-069abfc1395e",
   "metadata": {},
   "outputs": [
    {
     "data": {
      "text/plain": [
       "array([ 1.        ,  1.77827941,  3.16227766,  5.62341325, 10.        ])"
      ]
     },
     "execution_count": 72,
     "metadata": {},
     "output_type": "execute_result"
    }
   ],
   "source": [
    "np.logspace(0,1,5)"
   ]
  },
  {
   "cell_type": "code",
   "execution_count": 77,
   "id": "2f8dd102-f723-46d0-a330-52cc41a5034c",
   "metadata": {},
   "outputs": [
    {
     "data": {
      "text/plain": [
       "array([[15, 11, 50],\n",
       "       [83, 70, 26],\n",
       "       [ 5, 71,  5]])"
      ]
     },
     "execution_count": 77,
     "metadata": {},
     "output_type": "execute_result"
    }
   ],
   "source": [
    "np.random.randint(0,100,(3,3))"
   ]
  },
  {
   "cell_type": "code",
   "execution_count": 74,
   "id": "efe1385f-25b5-4d02-ad99-430069e1444e",
   "metadata": {},
   "outputs": [
    {
     "data": {
      "text/plain": [
       "array([[ 1.45561479, -0.17445736, -1.3043415 ],\n",
       "       [ 1.81988261, -1.84780383, -1.4093302 ],\n",
       "       [ 0.29715593, -0.09254953,  0.7451232 ]])"
      ]
     },
     "execution_count": 74,
     "metadata": {},
     "output_type": "execute_result"
    }
   ],
   "source": [
    "np.random.normal(0, 1, (3, 3)) #이 데이터가 어떻개 생겼는지 보"
   ]
  },
  {
   "cell_type": "code",
   "execution_count": 205,
   "id": "d8b60496-818f-4f8a-bc46-f670ae06fcc9",
   "metadata": {},
   "outputs": [
    {
     "data": {
      "text/plain": [
       "(array([[0., 0., 0., 0., 0., 0., 2., 0., 0., 1.],\n",
       "        [1., 0., 0., 0., 0., 0., 1., 0., 1., 0.]]),\n",
       " array([-1.68134864, -1.48724031, -1.29313198, -1.09902365, -0.90491532,\n",
       "        -0.71080699, -0.51669867, -0.32259034, -0.12848201,  0.06562632,\n",
       "         0.25973465]),\n",
       " <a list of 2 BarContainer objects>)"
      ]
     },
     "execution_count": 205,
     "metadata": {},
     "output_type": "execute_result"
    },
    {
     "data": {
      "image/png": "[encoded data removed]",
      "text/plain": [
       "<Figure size 432x288 with 1 Axes>"
      ]
     },
     "metadata": {
      "needs_background": "light"
     },
     "output_type": "display_data"
    }
   ],
   "source": [
    "x=np.random.normal(0,1,(3,2))\n",
    "import matplotlib.pyplot as plt\n",
    "plt. hist(x)"
   ]
  },
  {
   "cell_type": "code",
   "execution_count": 79,
   "id": "77151b92-168b-4fa9-82ea-34136c84be15",
   "metadata": {},
   "outputs": [
    {
     "data": {
      "text/plain": [
       "array([[1., 0., 0.],\n",
       "       [0., 1., 0.],\n",
       "       [0., 0., 1.]])"
      ]
     },
     "execution_count": 79,
     "metadata": {},
     "output_type": "execute_result"
    }
   ],
   "source": [
    "np.eye(3)"
   ]
  },
  {
   "cell_type": "code",
   "execution_count": 83,
   "id": "533f30f8-7c29-4aac-8325-30b1fc457f60",
   "metadata": {},
   "outputs": [
    {
     "data": {
      "text/plain": [
       "array([[ 0.09085658,  3.38464188, -0.26360523],\n",
       "       [ 3.16574914,  1.06228035,  3.69151662]])"
      ]
     },
     "execution_count": 83,
     "metadata": {},
     "output_type": "execute_result"
    }
   ],
   "source": [
    "#0~100 사이에서 4,5점수를 뽑고\n",
    "np.random.randint(0,101,(4,5))\n",
    "#0~10 사이에서 값을 등간격으로 11\n",
    "np.linspace(0,100,11) #얘는 마지막 값 포함\n",
    "#평균이 3, 표준편차가 2인 정규분포를 사용해서 2,3행렬\n",
    "np.random.normal(3,2,(2,3))"
   ]
  },
  {
   "cell_type": "code",
   "execution_count": 87,
   "id": "da95f195-ea18-42c5-8762-c55a14c041d6",
   "metadata": {},
   "outputs": [
    {
     "data": {
      "text/plain": [
       "array([[2.26078974, 3.53242471, 4.02200915],\n",
       "       [0.7996381 , 9.05055353, 0.74797917]])"
      ]
     },
     "execution_count": 87,
     "metadata": {},
     "output_type": "execute_result"
    }
   ],
   "source": [
    "np.random.normal(3,2,(6,1)).reshape(2,3) #다시 행렬 재정비"
   ]
  },
  {
   "cell_type": "code",
   "execution_count": 88,
   "id": "7c33d3a4-2c45-4a4f-8e6a-2770ecb09899",
   "metadata": {},
   "outputs": [
    {
     "data": {
      "text/plain": [
       "array([[1., 0., 0.],\n",
       "       [0., 1., 0.],\n",
       "       [0., 0., 1.]])"
      ]
     },
     "execution_count": 88,
     "metadata": {},
     "output_type": "execute_result"
    }
   ],
   "source": [
    "np.eye(3) #3,3행렬 출력"
   ]
  },
  {
   "cell_type": "code",
   "execution_count": 90,
   "id": "47cc2927-1b76-4c89-a5a6-953a41c3f701",
   "metadata": {},
   "outputs": [
    {
     "data": {
      "text/plain": [
       "array([[7., 8., 5., 0.],\n",
       "       [2., 5., 5., 5.],\n",
       "       [3., 9., 8., 6.],\n",
       "       [8., 3., 5., 3.]])"
      ]
     },
     "execution_count": 90,
     "metadata": {},
     "output_type": "execute_result"
    }
   ],
   "source": [
    "#단위 행렬이 중요한 이유: 여기서 단위행렬이 항등원. \n",
    "x=np.random.randint(0,10,(4,4))\n",
    "np.dot(x,np.eye(4))"
   ]
  },
  {
   "cell_type": "code",
   "execution_count": 91,
   "id": "8ab953a6-9268-46ba-9b4d-0509456a463b",
   "metadata": {},
   "outputs": [],
   "source": [
    "#int16, int32, float32중요 : 케라스 기본 타입이 32"
   ]
  },
  {
   "cell_type": "code",
   "execution_count": 92,
   "id": "a08d279c-686a-441a-9c9c-19cf348521c7",
   "metadata": {},
   "outputs": [
    {
     "data": {
      "text/plain": [
       "dtype('<U3')"
      ]
     },
     "execution_count": 92,
     "metadata": {},
     "output_type": "execute_result"
    }
   ],
   "source": [
    "np.array(['DDD']).dtype #U는 밖에 있다는 뜻"
   ]
  },
  {
   "cell_type": "code",
   "execution_count": null,
   "id": "a17ce4e7-7ef1-4b3c-a15b-748ba70b0ba8",
   "metadata": {},
   "outputs": [],
   "source": []
  },
  {
   "cell_type": "code",
   "execution_count": null,
   "id": "120e0847-f90b-4534-9e9b-06537b81e094",
   "metadata": {},
   "outputs": [],
   "source": []
  },
  {
   "cell_type": "code",
   "execution_count": 93,
   "id": "2a5bf04c-0584-460a-8c62-3cc8e60c3545",
   "metadata": {},
   "outputs": [],
   "source": [
    "####2-2"
   ]
  },
  {
   "cell_type": "code",
   "execution_count": 94,
   "id": "03211c25-032f-4ecc-acd5-7950ad6b9c3f",
   "metadata": {},
   "outputs": [],
   "source": [
    "import numpy as np"
   ]
  },
  {
   "cell_type": "code",
   "execution_count": 95,
   "id": "24dadad8-3565-4809-b9d4-a26fd030ef05",
   "metadata": {},
   "outputs": [],
   "source": [
    "np.random.seed(0)"
   ]
  },
  {
   "cell_type": "code",
   "execution_count": 110,
   "id": "4042911f-2618-4807-98c4-ef2a9b1d0807",
   "metadata": {},
   "outputs": [],
   "source": [
    "x1 = np.random.randint(10, size=6)  # One-dimensional array\n",
    "x2 = np.random.randint(10, size=(3, 4))  # Two-dimensional array\n",
    "x3 = np.random.randint(10, size=(3, 4, 5))  # Three-dimensional array #4,5를 3개 만들래 "
   ]
  },
  {
   "cell_type": "code",
   "execution_count": 111,
   "id": "15faed45-af06-4a84-8387-5559b83cd3a8",
   "metadata": {},
   "outputs": [
    {
     "data": {
      "text/plain": [
       "3"
      ]
     },
     "execution_count": 111,
     "metadata": {},
     "output_type": "execute_result"
    }
   ],
   "source": [
    "x3.ndim"
   ]
  },
  {
   "cell_type": "code",
   "execution_count": 112,
   "id": "eede4f3e-a612-49fa-815a-41d7d6207aa0",
   "metadata": {},
   "outputs": [
    {
     "data": {
      "text/plain": [
       "(3, 4, 5)"
      ]
     },
     "execution_count": 112,
     "metadata": {},
     "output_type": "execute_result"
    }
   ],
   "source": [
    "x3.shape"
   ]
  },
  {
   "cell_type": "code",
   "execution_count": 113,
   "id": "8853d925-6d11-4af4-903d-57cf507177d7",
   "metadata": {},
   "outputs": [
    {
     "data": {
      "text/plain": [
       "480"
      ]
     },
     "execution_count": 113,
     "metadata": {},
     "output_type": "execute_result"
    }
   ],
   "source": [
    "x3.size\n",
    "x3.itemsize\n",
    "x3.nbytes"
   ]
  },
  {
   "cell_type": "code",
   "execution_count": 206,
   "id": "72661265-bb5d-4ae7-90f5-0268189cd6a4",
   "metadata": {},
   "outputs": [
    {
     "data": {
      "text/plain": [
       "array([0, 8, 4, 6, 5, 8])"
      ]
     },
     "execution_count": 206,
     "metadata": {},
     "output_type": "execute_result"
    }
   ],
   "source": [
    "x1_l=np.random.randint(10,size=6)\n",
    "x1_l"
   ]
  },
  {
   "cell_type": "code",
   "execution_count": 207,
   "id": "f1b32d98-e1b0-4d8a-98bf-cdab8de7dafd",
   "metadata": {},
   "outputs": [
    {
     "data": {
      "text/plain": [
       "8"
      ]
     },
     "execution_count": 207,
     "metadata": {},
     "output_type": "execute_result"
    }
   ],
   "source": [
    "x1_l[-1] #리스트와 동일하게 움직임"
   ]
  },
  {
   "cell_type": "code",
   "execution_count": 114,
   "id": "cdde1589-f8de-4c49-9000-b587f4751e00",
   "metadata": {},
   "outputs": [
    {
     "data": {
      "text/plain": [
       "4"
      ]
     },
     "execution_count": 114,
     "metadata": {},
     "output_type": "execute_result"
    }
   ],
   "source": [
    "x1[0]"
   ]
  },
  {
   "cell_type": "code",
   "execution_count": 115,
   "id": "8331c419-ad1d-4ecd-9f2d-a6e9a7a0cd61",
   "metadata": {},
   "outputs": [],
   "source": [
    "x1_1=list(x1)"
   ]
  },
  {
   "cell_type": "code",
   "execution_count": 117,
   "id": "4a061279-d5db-4db0-a10f-51ca2a7c7625",
   "metadata": {},
   "outputs": [
    {
     "data": {
      "text/plain": [
       "4"
      ]
     },
     "execution_count": 117,
     "metadata": {},
     "output_type": "execute_result"
    }
   ],
   "source": [
    "x1[0]"
   ]
  },
  {
   "cell_type": "code",
   "execution_count": 122,
   "id": "621f7e6b-7ec6-4d64-a5e5-005e62cf3461",
   "metadata": {},
   "outputs": [
    {
     "data": {
      "text/plain": [
       "3"
      ]
     },
     "execution_count": 122,
     "metadata": {},
     "output_type": "execute_result"
    }
   ],
   "source": [
    "x2[0,0] #행렬 0라인의 교차 점 값을 가져옴 "
   ]
  },
  {
   "cell_type": "code",
   "execution_count": 128,
   "id": "d3998529-4974-49cd-a4ea-4e7f627349a6",
   "metadata": {},
   "outputs": [
    {
     "data": {
      "text/plain": [
       "array([[ 3,  7,  5,  5],\n",
       "       [ 0,  1,  5,  9],\n",
       "       [ 3, 10,  5,  0]])"
      ]
     },
     "execution_count": 128,
     "metadata": {},
     "output_type": "execute_result"
    }
   ],
   "source": [
    "x2"
   ]
  },
  {
   "cell_type": "code",
   "execution_count": 129,
   "id": "77a2797e-ad0d-4c85-81b4-19a6bc1efc96",
   "metadata": {},
   "outputs": [
    {
     "data": {
      "text/plain": [
       "array([[3, 7, 5, 5],\n",
       "       [0, 1, 5, 9],\n",
       "       [3, 9, 5, 0]])"
      ]
     },
     "execution_count": 129,
     "metadata": {},
     "output_type": "execute_result"
    }
   ],
   "source": [
    "x2[2,1]=9 #행렬 안 값 바꾸기\n",
    "x2"
   ]
  },
  {
   "cell_type": "code",
   "execution_count": 131,
   "id": "416705f6-3bad-4980-a628-9ffc90d059ee",
   "metadata": {},
   "outputs": [],
   "source": [
    "#슬라이싱: 여러개 갖고오는거(자르는거)"
   ]
  },
  {
   "cell_type": "code",
   "execution_count": 133,
   "id": "04975348-100a-4b94-9542-44e3d38dfdae",
   "metadata": {},
   "outputs": [
    {
     "data": {
      "text/plain": [
       "array([0, 1, 2, 3, 4, 5, 6, 7, 8, 9])"
      ]
     },
     "execution_count": 133,
     "metadata": {},
     "output_type": "execute_result"
    }
   ],
   "source": [
    "x=np.arange(10)\n",
    "x"
   ]
  },
  {
   "cell_type": "code",
   "execution_count": 135,
   "id": "f4140541-3cb0-4479-946b-c975efa24476",
   "metadata": {},
   "outputs": [
    {
     "data": {
      "text/plain": [
       "array([0, 1, 2, 3, 4])"
      ]
     },
     "execution_count": 135,
     "metadata": {},
     "output_type": "execute_result"
    }
   ],
   "source": [
    "#5까지 가져오기\n",
    "x[0:5]"
   ]
  },
  {
   "cell_type": "code",
   "execution_count": 137,
   "id": "652b6d28-da96-46c2-97a1-b2784279e275",
   "metadata": {},
   "outputs": [
    {
     "data": {
      "text/plain": [
       "[0, 1, 2, 3, 4]"
      ]
     },
     "execution_count": 137,
     "metadata": {},
     "output_type": "execute_result"
    }
   ],
   "source": [
    "x_l=list(x)\n",
    "x_l[:5]"
   ]
  },
  {
   "cell_type": "code",
   "execution_count": 139,
   "id": "2b914eae-45d4-4d67-9eb6-f0988da2ff89",
   "metadata": {},
   "outputs": [
    {
     "data": {
      "text/plain": [
       "[0, 2, 4]"
      ]
     },
     "execution_count": 139,
     "metadata": {},
     "output_type": "execute_result"
    }
   ],
   "source": [
    "x_l[0:5:2]"
   ]
  },
  {
   "cell_type": "code",
   "execution_count": 140,
   "id": "41465bf5-816b-44bc-958d-867763de6b30",
   "metadata": {},
   "outputs": [],
   "source": [
    "#모든 짝수 가져오기"
   ]
  },
  {
   "cell_type": "code",
   "execution_count": 143,
   "id": "65f19421-b8ea-40b9-9878-37175bc16cce",
   "metadata": {},
   "outputs": [
    {
     "data": {
      "text/plain": [
       "[1, 3, 5, 7, 9]"
      ]
     },
     "execution_count": 143,
     "metadata": {},
     "output_type": "execute_result"
    }
   ],
   "source": [
    "x_l[1::2]"
   ]
  },
  {
   "cell_type": "code",
   "execution_count": 144,
   "id": "2073903a-b3c3-420b-898c-6305f57f42ba",
   "metadata": {},
   "outputs": [],
   "source": [
    "#거꾸로 가져오기"
   ]
  },
  {
   "cell_type": "code",
   "execution_count": 147,
   "id": "67707f3c-adcf-49a3-be76-9186e8dceac3",
   "metadata": {},
   "outputs": [
    {
     "data": {
      "text/plain": [
       "array([0, 2, 4, 6, 8])"
      ]
     },
     "execution_count": 147,
     "metadata": {},
     "output_type": "execute_result"
    }
   ],
   "source": [
    "x[::2]"
   ]
  },
  {
   "cell_type": "code",
   "execution_count": 148,
   "id": "9c7f03e4-d4ba-4929-be65-54ac6fb383b4",
   "metadata": {},
   "outputs": [
    {
     "data": {
      "text/plain": [
       "array([9, 8, 7, 6, 5, 4, 3, 2, 1, 0])"
      ]
     },
     "execution_count": 148,
     "metadata": {},
     "output_type": "execute_result"
    }
   ],
   "source": [
    "x[::-1] #-1칸 씩 띄우기"
   ]
  },
  {
   "cell_type": "code",
   "execution_count": 149,
   "id": "4d42d69e-90b6-428c-84d2-b440fab6cdee",
   "metadata": {},
   "outputs": [
    {
     "data": {
      "text/plain": [
       "array([[3, 7],\n",
       "       [0, 1]])"
      ]
     },
     "execution_count": 149,
     "metadata": {},
     "output_type": "execute_result"
    }
   ],
   "source": [
    "x2[:2,:2]"
   ]
  },
  {
   "cell_type": "code",
   "execution_count": 150,
   "id": "78365e7d-8f42-43cc-8526-8c8f1a8b03ce",
   "metadata": {},
   "outputs": [
    {
     "data": {
      "text/plain": [
       "array([[3, 7, 5, 5],\n",
       "       [0, 1, 5, 9],\n",
       "       [3, 9, 5, 0]])"
      ]
     },
     "execution_count": 150,
     "metadata": {},
     "output_type": "execute_result"
    }
   ],
   "source": [
    "x2"
   ]
  },
  {
   "cell_type": "code",
   "execution_count": 151,
   "id": "7d074067-8b9e-4c69-8dd2-7fd8f52b0950",
   "metadata": {},
   "outputs": [
    {
     "data": {
      "text/plain": [
       "array([[5, 9],\n",
       "       [5, 0]])"
      ]
     },
     "execution_count": 151,
     "metadata": {},
     "output_type": "execute_result"
    }
   ],
   "source": [
    "#인덱싱해서 가져오기=데이터를 새로 만들어 가져오기랑 같다고 보면 됨\n",
    "x2[1:3,2:4]"
   ]
  },
  {
   "cell_type": "code",
   "execution_count": 153,
   "id": "fc52640d-b377-4fc9-b0ce-2bf6be6394f4",
   "metadata": {},
   "outputs": [
    {
     "data": {
      "text/plain": [
       "array([[3, 9, 5, 0],\n",
       "       [0, 1, 5, 9],\n",
       "       [3, 7, 5, 5]])"
      ]
     },
     "execution_count": 153,
     "metadata": {},
     "output_type": "execute_result"
    }
   ],
   "source": [
    "x2[::-1,::] #거꾸로 가져오기"
   ]
  },
  {
   "cell_type": "code",
   "execution_count": 154,
   "id": "3609b59c-c09d-4be4-8ac5-5d0c9f921f3a",
   "metadata": {},
   "outputs": [
    {
     "data": {
      "text/plain": [
       "array([[5, 0],\n",
       "       [5, 9]])"
      ]
     },
     "execution_count": 154,
     "metadata": {},
     "output_type": "execute_result"
    }
   ],
   "source": [
    "x2[::-1,::][:2,2:4]"
   ]
  },
  {
   "cell_type": "code",
   "execution_count": 157,
   "id": "2f4b24da-47eb-4d74-b41c-d271bfdb131a",
   "metadata": {},
   "outputs": [
    {
     "data": {
      "text/plain": [
       "array([[5, 5],\n",
       "       [5, 9]])"
      ]
     },
     "execution_count": 157,
     "metadata": {},
     "output_type": "execute_result"
    }
   ],
   "source": [
    "x2[:-1,2:4]"
   ]
  },
  {
   "cell_type": "code",
   "execution_count": 158,
   "id": "1958b59a-7cc4-465b-8010-4ea4ecb9a833",
   "metadata": {},
   "outputs": [
    {
     "data": {
      "text/plain": [
       "array([[5, 0],\n",
       "       [5, 9]])"
      ]
     },
     "execution_count": 158,
     "metadata": {},
     "output_type": "execute_result"
    }
   ],
   "source": [
    "x2[::-1,2:4][:2,:]"
   ]
  },
  {
   "cell_type": "code",
   "execution_count": 160,
   "id": "3d01cdc9-47b7-4e3f-9e93-6b589e87ca09",
   "metadata": {},
   "outputs": [
    {
     "data": {
      "text/plain": [
       "array([[3],\n",
       "       [0],\n",
       "       [3]])"
      ]
     },
     "execution_count": 160,
     "metadata": {},
     "output_type": "execute_result"
    }
   ],
   "source": [
    "#세로 맨 앞에거 따오기\n",
    "x2[:,0:1] #.shape"
   ]
  },
  {
   "cell_type": "code",
   "execution_count": 165,
   "id": "9cdb9d94-4980-4e06-b76f-66786877a903",
   "metadata": {},
   "outputs": [
    {
     "data": {
      "text/plain": [
       "array([[12, 12],\n",
       "       [12, 12]])"
      ]
     },
     "execution_count": 165,
     "metadata": {},
     "output_type": "execute_result"
    }
   ],
   "source": [
    "x2_sub=x2[:2,:2]\n",
    "x2[:2,:2]=12 #치환\n",
    "x2_sub #스왈로우카피 때문에 같이 변함: 참조"
   ]
  },
  {
   "cell_type": "code",
   "execution_count": null,
   "id": "627b0af6-52c8-47d9-80ba-da01fe2ab20f",
   "metadata": {},
   "outputs": [
    {
     "data": {
      "text/plain": [
       "array([[9, 6],\n",
       "       [8, 8]])"
      ]
     },
     "execution_count": 167,
     "metadata": {},
     "output_type": "execute_result"
    }
   ],
   "source": [
    "x2=np.random.randint(10,size=(3,4))\n",
    "x2_sub=x2[:2,:2].copy()\n",
    "x2_sub"
   ]
  },
  {
   "cell_type": "code",
   "execution_count": 168,
   "id": "c6f69423-2dc5-4920-9813-c7c5ca967208",
   "metadata": {},
   "outputs": [
    {
     "data": {
      "text/plain": [
       "array([[12, 12,  5,  7],\n",
       "       [12, 12,  9,  2],\n",
       "       [ 8,  6,  6,  9]])"
      ]
     },
     "execution_count": 168,
     "metadata": {},
     "output_type": "execute_result"
    }
   ],
   "source": [
    "x2[:2,:2]=12 #딥카피 얘가 변하더라도 얘 자체는 변하지 않는다 ? 서로간 참조를 안함\n",
    "x2"
   ]
  },
  {
   "cell_type": "code",
   "execution_count": 173,
   "id": "5c1cc9f6-e846-4dce-80ba-a07fe778e0cb",
   "metadata": {},
   "outputs": [
    {
     "data": {
      "text/plain": [
       "array([[ 1,  2],\n",
       "       [ 3,  4],\n",
       "       [ 5,  6],\n",
       "       [ 7,  8],\n",
       "       [ 9, 10]])"
      ]
     },
     "execution_count": 173,
     "metadata": {},
     "output_type": "execute_result"
    }
   ],
   "source": [
    "###Reshaping of array\n",
    "#곱하는 숫자와 내 원소가 맞아야 함\n",
    "np.arange(1,11).reshape(-1,2)"
   ]
  },
  {
   "cell_type": "code",
   "execution_count": 174,
   "id": "a9524789-0564-4757-adb6-a9b157b2cedd",
   "metadata": {},
   "outputs": [
    {
     "data": {
      "text/plain": [
       "array([[1, 2, 3]])"
      ]
     },
     "execution_count": 174,
     "metadata": {},
     "output_type": "execute_result"
    }
   ],
   "source": [
    "x=np.array([1,2,3])\n",
    "x.reshape(1,3)"
   ]
  },
  {
   "cell_type": "code",
   "execution_count": 175,
   "id": "436dbc3f-6716-4bda-b453-3e676ef6b457",
   "metadata": {},
   "outputs": [],
   "source": [
    "np.newaxis ##dummy값  #axis=축"
   ]
  },
  {
   "cell_type": "code",
   "execution_count": 176,
   "id": "3063dd08-66ff-4a39-8a9b-4231ba6da57e",
   "metadata": {},
   "outputs": [
    {
     "data": {
      "text/plain": [
       "array([[1, 2, 3]])"
      ]
     },
     "execution_count": 176,
     "metadata": {},
     "output_type": "execute_result"
    }
   ],
   "source": [
    "x[np.newaxis, :] #reshape과 동일한 값 출력 #행이없다, dummy값 없다"
   ]
  },
  {
   "cell_type": "code",
   "execution_count": 177,
   "id": "0feda7c2-f867-451b-b62a-92adaefbe666",
   "metadata": {},
   "outputs": [
    {
     "data": {
      "text/plain": [
       "(1, 3)"
      ]
     },
     "execution_count": 177,
     "metadata": {},
     "output_type": "execute_result"
    }
   ],
   "source": [
    "x[np.newaxis, :].shape"
   ]
  },
  {
   "cell_type": "code",
   "execution_count": 179,
   "id": "f4c2399b-c425-4eb9-acd7-6955695305a9",
   "metadata": {},
   "outputs": [
    {
     "data": {
      "text/plain": [
       "(3, 1)"
      ]
     },
     "execution_count": 179,
     "metadata": {},
     "output_type": "execute_result"
    }
   ],
   "source": [
    "x[:, np.newaxis].shape "
   ]
  },
  {
   "cell_type": "code",
   "execution_count": 180,
   "id": "e7512152-e23e-4ff3-b98c-747e53bca690",
   "metadata": {},
   "outputs": [
    {
     "data": {
      "text/plain": [
       "array([[1],\n",
       "       [2],\n",
       "       [3]])"
      ]
     },
     "execution_count": 180,
     "metadata": {},
     "output_type": "execute_result"
    }
   ],
   "source": [
    "x[:, np.newaxis]"
   ]
  },
  {
   "cell_type": "code",
   "execution_count": 182,
   "id": "3e731b2a-bec0-46d5-9b14-21d715a64cff",
   "metadata": {},
   "outputs": [
    {
     "data": {
      "text/plain": [
       "(3, 1, 1)"
      ]
     },
     "execution_count": 182,
     "metadata": {},
     "output_type": "execute_result"
    }
   ],
   "source": [
    "x[:, np.newaxis, np.newaxis].shape #3차원 "
   ]
  },
  {
   "cell_type": "code",
   "execution_count": 183,
   "id": "81300e0c-45f1-4b76-9c1b-7ac0050d57e1",
   "metadata": {},
   "outputs": [
    {
     "data": {
      "text/plain": [
       "array([[[1]],\n",
       "\n",
       "       [[2]],\n",
       "\n",
       "       [[3]]])"
      ]
     },
     "execution_count": 183,
     "metadata": {},
     "output_type": "execute_result"
    }
   ],
   "source": [
    "x[:, np.newaxis, np.newaxis] #[]=차원 #굳이 이렇게 안하고 reshape하면 됨 "
   ]
  },
  {
   "cell_type": "code",
   "execution_count": 184,
   "id": "efbbd953-bbd4-476d-a4de-235e0b1c321a",
   "metadata": {},
   "outputs": [],
   "source": [
    "###Concatenate"
   ]
  },
  {
   "cell_type": "code",
   "execution_count": 185,
   "id": "0c07afb0-bbb0-41e8-8ddc-9d6193e2a6ad",
   "metadata": {},
   "outputs": [
    {
     "data": {
      "text/plain": [
       "array([1, 2, 3, 3, 2, 1])"
      ]
     },
     "execution_count": 185,
     "metadata": {},
     "output_type": "execute_result"
    }
   ],
   "source": [
    "x = np.array([1, 2, 3])\n",
    "y = np.array([3, 2, 1]) #행렬 갯수는 딱 맞아야\n",
    "np.concatenate([x, y])"
   ]
  },
  {
   "cell_type": "code",
   "execution_count": 186,
   "id": "1e08fdfe-6a42-4971-9421-f34121a7b8df",
   "metadata": {},
   "outputs": [
    {
     "data": {
      "text/plain": [
       "array([1, 2, 3, 3, 2, 1])"
      ]
     },
     "execution_count": 186,
     "metadata": {},
     "output_type": "execute_result"
    }
   ],
   "source": [
    "np.concatenate([x,y],axis=0) #0=low 1=column "
   ]
  },
  {
   "cell_type": "code",
   "execution_count": 187,
   "id": "e8249418-8637-470a-9871-05d914804e4f",
   "metadata": {},
   "outputs": [
    {
     "data": {
      "text/plain": [
       "array([[1, 2, 3, 3, 2, 1]])"
      ]
     },
     "execution_count": 187,
     "metadata": {},
     "output_type": "execute_result"
    }
   ],
   "source": [
    "np.concatenate([x.reshape(-1,3),y.reshape(-1,3)],axis=1) "
   ]
  },
  {
   "cell_type": "code",
   "execution_count": 188,
   "id": "c86ae7b7-1181-4ee8-8085-c725d68fde13",
   "metadata": {},
   "outputs": [
    {
     "data": {
      "text/plain": [
       "array([[1, 2, 3],\n",
       "       [3, 2, 1]])"
      ]
     },
     "execution_count": 188,
     "metadata": {},
     "output_type": "execute_result"
    }
   ],
   "source": [
    "np.concatenate([x.reshape(-1,3),y.reshape(-1,3)],axis=0) "
   ]
  },
  {
   "cell_type": "code",
   "execution_count": null,
   "id": "45fbef2c-b663-4bbd-894e-545244d88886",
   "metadata": {},
   "outputs": [],
   "source": []
  },
  {
   "cell_type": "code",
   "execution_count": null,
   "id": "5cea1c20-6ccd-4b4f-aee9-a0c19a0767d7",
   "metadata": {},
   "outputs": [],
   "source": [
    "#ACS"
   ]
  },
  {
   "cell_type": "code",
   "execution_count": 191,
   "id": "ee83d4b8-1ca4-4f1d-bc6e-4550472aad7b",
   "metadata": {},
   "outputs": [],
   "source": [
    "grid=np.arange(1,7).reshape(2,3)"
   ]
  },
  {
   "cell_type": "code",
   "execution_count": 208,
   "id": "5bbe9196-c5f8-42d6-8128-46cb0eba4df5",
   "metadata": {},
   "outputs": [
    {
     "data": {
      "text/plain": [
       "array([[1, 2, 3],\n",
       "       [9, 8, 7],\n",
       "       [6, 5, 4]])"
      ]
     },
     "execution_count": 208,
     "metadata": {},
     "output_type": "execute_result"
    }
   ],
   "source": [
    "grid=np.arange(9,3,-1).reshape(2,3)\n",
    "x=np.arange(1,4)\n",
    "np.vstack([x,grid])"
   ]
  },
  {
   "cell_type": "code",
   "execution_count": 209,
   "id": "27e9b6cf-ba3e-4e77-90fb-337cec654c0e",
   "metadata": {},
   "outputs": [
    {
     "data": {
      "text/plain": [
       "array([[9, 8, 7, 1],\n",
       "       [6, 5, 4, 2]])"
      ]
     },
     "execution_count": 209,
     "metadata": {},
     "output_type": "execute_result"
    }
   ],
   "source": [
    "grid=np.arange(9,3,-1).reshape(2,3)\n",
    "x=np.arange(1,3)\n",
    "np.hstack([grid,x.reshape(2,1)]) #low끼리 결합"
   ]
  },
  {
   "cell_type": "code",
   "execution_count": null,
   "id": "5b63e681-fe28-4cc4-b18b-c1abe7a175eb",
   "metadata": {},
   "outputs": [],
   "source": []
  },
  {
   "cell_type": "code",
   "execution_count": null,
   "id": "f8a0d785-7f6a-4ce9-aab7-7a830bb434bc",
   "metadata": {},
   "outputs": [],
   "source": []
  },
  {
   "cell_type": "code",
   "execution_count": null,
   "id": "5835644a-2854-40f6-ab6b-53e9c9eebc00",
   "metadata": {},
   "outputs": [],
   "source": []
  },
  {
   "cell_type": "code",
   "execution_count": null,
   "id": "5584e8a9-c95b-4192-bbfd-0edade33a659",
   "metadata": {},
   "outputs": [],
   "source": []
  },
  {
   "cell_type": "code",
   "execution_count": 211,
   "id": "0a3d2617-2300-41fc-a1c7-e3dc79274ce4",
   "metadata": {},
   "outputs": [],
   "source": [
    "#이제 for문 쓰지말고 numpy 또는 pandas로 쓰기"
   ]
  },
  {
   "cell_type": "code",
   "execution_count": 210,
   "id": "b6e47200-5c58-4c88-b271-17d52c31fdef",
   "metadata": {},
   "outputs": [],
   "source": [
    "#Splitting 분할"
   ]
  },
  {
   "cell_type": "code",
   "execution_count": 216,
   "id": "6ecfc8a6-047d-4eb7-92b8-4daeae9b1a53",
   "metadata": {},
   "outputs": [
    {
     "name": "stdout",
     "output_type": "stream",
     "text": [
      "[1 2 3]\n",
      "[99 99  3]\n",
      "[2 1]\n"
     ]
    }
   ],
   "source": [
    "x = [1, 2, 3, 99, 99, 3, 2, 1]\n",
    "x1, x2, x3= np.split(x, [3, 6])\n",
    "print(x1)\n",
    "print(x2)\n",
    "print(x3)"
   ]
  },
  {
   "cell_type": "code",
   "execution_count": 217,
   "id": "111c4bbb-0072-4a0b-9967-33c1634d72f5",
   "metadata": {},
   "outputs": [
    {
     "data": {
      "text/plain": [
       "array([[ 0,  1,  2,  3],\n",
       "       [ 4,  5,  6,  7],\n",
       "       [ 8,  9, 10, 11],\n",
       "       [12, 13, 14, 15]])"
      ]
     },
     "execution_count": 217,
     "metadata": {},
     "output_type": "execute_result"
    }
   ],
   "source": [
    "grid = np.arange(16).reshape((4, 4))\n",
    "grid"
   ]
  },
  {
   "cell_type": "code",
   "execution_count": 224,
   "id": "9e1e3017-1b8a-450f-b55b-30e90fa6622d",
   "metadata": {},
   "outputs": [],
   "source": [
    "x1, x2 = np.vsplit(grid,[2])\n",
    "\n",
    "x1=np.array([1,2,3])\n",
    "x2=np.array([1,2,3])\n",
    "x3=np.array([1,2,3])"
   ]
  },
  {
   "cell_type": "code",
   "execution_count": 225,
   "id": "d75b5570-8f06-4cc4-a95f-c908707e25d7",
   "metadata": {},
   "outputs": [
    {
     "data": {
      "text/plain": [
       "array([[1, 2, 3],\n",
       "       [1, 2, 3],\n",
       "       [1, 2, 3]])"
      ]
     },
     "execution_count": 228,
     "metadata": {},
     "output_type": "execute_result"
    }
   ],
   "source": [
    "x=[]\n",
    "x.append(x1)\n",
    "x.append(x2)\n",
    "x.append(x3)\n",
    "x=np.array(x)\n",
    "x"
   ]
  },
  {
   "cell_type": "code",
   "execution_count": 231,
   "id": "0d34a8bc-e78c-4e88-a805-d4934b79817f",
   "metadata": {},
   "outputs": [],
   "source": [
    "x = np.vsplit(grid,[2])"
   ]
  },
  {
   "cell_type": "code",
   "execution_count": 233,
   "id": "b81770f2-2e23-40b9-9bd7-57711d79acf4",
   "metadata": {},
   "outputs": [
    {
     "data": {
      "text/plain": [
       "[array([[0, 1, 2, 3],\n",
       "        [4, 5, 6, 7]]),\n",
       " array([[ 8,  9, 10, 11],\n",
       "        [12, 13, 14, 15]])]"
      ]
     },
     "execution_count": 233,
     "metadata": {},
     "output_type": "execute_result"
    }
   ],
   "source": [
    "x"
   ]
  },
  {
   "cell_type": "code",
   "execution_count": 234,
   "id": "fe84b8f2-f986-4a35-a880-2af812069770",
   "metadata": {},
   "outputs": [
    {
     "data": {
      "text/plain": [
       "array([[ 0,  1,  2,  3],\n",
       "       [ 4,  5,  6,  7],\n",
       "       [ 8,  9, 10, 11],\n",
       "       [12, 13, 14, 15]])"
      ]
     },
     "execution_count": 234,
     "metadata": {},
     "output_type": "execute_result"
    }
   ],
   "source": [
    "np.concatenate(x)"
   ]
  },
  {
   "cell_type": "code",
   "execution_count": null,
   "id": "11ddcdc0-4d6b-447c-a135-8b39f44260b7",
   "metadata": {},
   "outputs": [],
   "source": []
  },
  {
   "cell_type": "code",
   "execution_count": null,
   "id": "9496165a-2cc5-4032-84c3-0fd92bc7023c",
   "metadata": {},
   "outputs": [],
   "source": []
  },
  {
   "cell_type": "code",
   "execution_count": null,
   "id": "36207104-23ad-4141-ae7d-d84f10470fe3",
   "metadata": {},
   "outputs": [],
   "source": []
  },
  {
   "cell_type": "code",
   "execution_count": 235,
   "id": "d0fe9e4e-263a-42a9-ad26-4586fd65ef2d",
   "metadata": {},
   "outputs": [],
   "source": [
    "###2-3"
   ]
  },
  {
   "cell_type": "code",
   "execution_count": 236,
   "id": "362b5e8e-d529-43fd-be77-cc6263c01cbe",
   "metadata": {},
   "outputs": [
    {
     "data": {
      "text/plain": [
       "array([0.16666667, 1.        , 0.25      , 0.25      , 0.125     ])"
      ]
     },
     "execution_count": 236,
     "metadata": {},
     "output_type": "execute_result"
    }
   ],
   "source": [
    "import numpy as np\n",
    "np.random.seed(0)\n",
    "\n",
    "def compute_reciprocals(values): #역수로 만들어주는 함수 만든거 \n",
    "    output = np.empty(len(values))\n",
    "    for i in range(len(values)):\n",
    "        output[i] = 1.0 / values[i]\n",
    "    return output\n",
    "        \n",
    "values = np.random.randint(1, 10, size=5)\n",
    "compute_reciprocals(values)"
   ]
  },
  {
   "cell_type": "code",
   "execution_count": 237,
   "id": "7fb46b38-a516-40f1-aa58-25ce3121a378",
   "metadata": {},
   "outputs": [
    {
     "data": {
      "text/plain": [
       "array([0.33333333, 0.04347826, 0.33333333])"
      ]
     },
     "execution_count": 237,
     "metadata": {},
     "output_type": "execute_result"
    }
   ],
   "source": [
    "compute_reciprocals([3,23,3])"
   ]
  },
  {
   "cell_type": "code",
   "execution_count": 238,
   "id": "a39366f5-6aec-4b86-bdbb-3662d98c14cf",
   "metadata": {
    "collapsed": true,
    "jupyter": {
     "outputs_hidden": true
    },
    "tags": []
   },
   "outputs": [
    {
     "data": {
      "text/plain": [
       "['ALLOW_THREADS',\n",
       " 'AxisError',\n",
       " 'BUFSIZE',\n",
       " 'Bytes0',\n",
       " 'CLIP',\n",
       " 'ComplexWarning',\n",
       " 'DataSource',\n",
       " 'Datetime64',\n",
       " 'ERR_CALL',\n",
       " 'ERR_DEFAULT',\n",
       " 'ERR_IGNORE',\n",
       " 'ERR_LOG',\n",
       " 'ERR_PRINT',\n",
       " 'ERR_RAISE',\n",
       " 'ERR_WARN',\n",
       " 'FLOATING_POINT_SUPPORT',\n",
       " 'FPE_DIVIDEBYZERO',\n",
       " 'FPE_INVALID',\n",
       " 'FPE_OVERFLOW',\n",
       " 'FPE_UNDERFLOW',\n",
       " 'False_',\n",
       " 'Inf',\n",
       " 'Infinity',\n",
       " 'MAXDIMS',\n",
       " 'MAY_SHARE_BOUNDS',\n",
       " 'MAY_SHARE_EXACT',\n",
       " 'MachAr',\n",
       " 'ModuleDeprecationWarning',\n",
       " 'NAN',\n",
       " 'NINF',\n",
       " 'NZERO',\n",
       " 'NaN',\n",
       " 'PINF',\n",
       " 'PZERO',\n",
       " 'RAISE',\n",
       " 'RankWarning',\n",
       " 'SHIFT_DIVIDEBYZERO',\n",
       " 'SHIFT_INVALID',\n",
       " 'SHIFT_OVERFLOW',\n",
       " 'SHIFT_UNDERFLOW',\n",
       " 'ScalarType',\n",
       " 'Str0',\n",
       " 'Tester',\n",
       " 'TooHardError',\n",
       " 'True_',\n",
       " 'UFUNC_BUFSIZE_DEFAULT',\n",
       " 'UFUNC_PYVALS_NAME',\n",
       " 'Uint64',\n",
       " 'VisibleDeprecationWarning',\n",
       " 'WRAP',\n",
       " '_NoValue',\n",
       " '_UFUNC_API',\n",
       " '__NUMPY_SETUP__',\n",
       " '__all__',\n",
       " '__builtins__',\n",
       " '__cached__',\n",
       " '__config__',\n",
       " '__deprecated_attrs__',\n",
       " '__dir__',\n",
       " '__doc__',\n",
       " '__expired_functions__',\n",
       " '__file__',\n",
       " '__getattr__',\n",
       " '__git_revision__',\n",
       " '__loader__',\n",
       " '__mkl_version__',\n",
       " '__name__',\n",
       " '__package__',\n",
       " '__path__',\n",
       " '__spec__',\n",
       " '__version__',\n",
       " '_add_newdoc_ufunc',\n",
       " '_distributor_init',\n",
       " '_financial_names',\n",
       " '_globals',\n",
       " '_mat',\n",
       " '_pytesttester',\n",
       " 'abs',\n",
       " 'absolute',\n",
       " 'add',\n",
       " 'add_docstring',\n",
       " 'add_newdoc',\n",
       " 'add_newdoc_ufunc',\n",
       " 'alen',\n",
       " 'all',\n",
       " 'allclose',\n",
       " 'alltrue',\n",
       " 'amax',\n",
       " 'amin',\n",
       " 'angle',\n",
       " 'any',\n",
       " 'append',\n",
       " 'apply_along_axis',\n",
       " 'apply_over_axes',\n",
       " 'arange',\n",
       " 'arccos',\n",
       " 'arccosh',\n",
       " 'arcsin',\n",
       " 'arcsinh',\n",
       " 'arctan',\n",
       " 'arctan2',\n",
       " 'arctanh',\n",
       " 'argmax',\n",
       " 'argmin',\n",
       " 'argpartition',\n",
       " 'argsort',\n",
       " 'argwhere',\n",
       " 'around',\n",
       " 'array',\n",
       " 'array2string',\n",
       " 'array_equal',\n",
       " 'array_equiv',\n",
       " 'array_repr',\n",
       " 'array_split',\n",
       " 'array_str',\n",
       " 'asanyarray',\n",
       " 'asarray',\n",
       " 'asarray_chkfinite',\n",
       " 'ascontiguousarray',\n",
       " 'asfarray',\n",
       " 'asfortranarray',\n",
       " 'asmatrix',\n",
       " 'asscalar',\n",
       " 'atleast_1d',\n",
       " 'atleast_2d',\n",
       " 'atleast_3d',\n",
       " 'average',\n",
       " 'bartlett',\n",
       " 'base_repr',\n",
       " 'binary_repr',\n",
       " 'bincount',\n",
       " 'bitwise_and',\n",
       " 'bitwise_not',\n",
       " 'bitwise_or',\n",
       " 'bitwise_xor',\n",
       " 'blackman',\n",
       " 'block',\n",
       " 'bmat',\n",
       " 'bool8',\n",
       " 'bool_',\n",
       " 'broadcast',\n",
       " 'broadcast_arrays',\n",
       " 'broadcast_shapes',\n",
       " 'broadcast_to',\n",
       " 'busday_count',\n",
       " 'busday_offset',\n",
       " 'busdaycalendar',\n",
       " 'byte',\n",
       " 'byte_bounds',\n",
       " 'bytes0',\n",
       " 'bytes_',\n",
       " 'c_',\n",
       " 'can_cast',\n",
       " 'cast',\n",
       " 'cbrt',\n",
       " 'cdouble',\n",
       " 'ceil',\n",
       " 'cfloat',\n",
       " 'char',\n",
       " 'character',\n",
       " 'chararray',\n",
       " 'choose',\n",
       " 'clip',\n",
       " 'clongdouble',\n",
       " 'clongfloat',\n",
       " 'column_stack',\n",
       " 'common_type',\n",
       " 'compare_chararrays',\n",
       " 'compat',\n",
       " 'complex128',\n",
       " 'complex256',\n",
       " 'complex64',\n",
       " 'complex_',\n",
       " 'complexfloating',\n",
       " 'compress',\n",
       " 'concatenate',\n",
       " 'conj',\n",
       " 'conjugate',\n",
       " 'convolve',\n",
       " 'copy',\n",
       " 'copysign',\n",
       " 'copyto',\n",
       " 'core',\n",
       " 'corrcoef',\n",
       " 'correlate',\n",
       " 'cos',\n",
       " 'cosh',\n",
       " 'count_nonzero',\n",
       " 'cov',\n",
       " 'cross',\n",
       " 'csingle',\n",
       " 'ctypeslib',\n",
       " 'cumprod',\n",
       " 'cumproduct',\n",
       " 'cumsum',\n",
       " 'datetime64',\n",
       " 'datetime_as_string',\n",
       " 'datetime_data',\n",
       " 'deg2rad',\n",
       " 'degrees',\n",
       " 'delete',\n",
       " 'deprecate',\n",
       " 'deprecate_with_doc',\n",
       " 'diag',\n",
       " 'diag_indices',\n",
       " 'diag_indices_from',\n",
       " 'diagflat',\n",
       " 'diagonal',\n",
       " 'diff',\n",
       " 'digitize',\n",
       " 'disp',\n",
       " 'divide',\n",
       " 'divmod',\n",
       " 'dot',\n",
       " 'double',\n",
       " 'dsplit',\n",
       " 'dstack',\n",
       " 'dtype',\n",
       " 'e',\n",
       " 'ediff1d',\n",
       " 'einsum',\n",
       " 'einsum_path',\n",
       " 'emath',\n",
       " 'empty',\n",
       " 'empty_like',\n",
       " 'equal',\n",
       " 'errstate',\n",
       " 'euler_gamma',\n",
       " 'exp',\n",
       " 'exp2',\n",
       " 'expand_dims',\n",
       " 'expm1',\n",
       " 'extract',\n",
       " 'eye',\n",
       " 'fabs',\n",
       " 'fastCopyAndTranspose',\n",
       " 'fft',\n",
       " 'fill_diagonal',\n",
       " 'find_common_type',\n",
       " 'finfo',\n",
       " 'fix',\n",
       " 'flatiter',\n",
       " 'flatnonzero',\n",
       " 'flexible',\n",
       " 'flip',\n",
       " 'fliplr',\n",
       " 'flipud',\n",
       " 'float128',\n",
       " 'float16',\n",
       " 'float32',\n",
       " 'float64',\n",
       " 'float_',\n",
       " 'float_power',\n",
       " 'floating',\n",
       " 'floor',\n",
       " 'floor_divide',\n",
       " 'fmax',\n",
       " 'fmin',\n",
       " 'fmod',\n",
       " 'format_float_positional',\n",
       " 'format_float_scientific',\n",
       " 'format_parser',\n",
       " 'frexp',\n",
       " 'frombuffer',\n",
       " 'fromfile',\n",
       " 'fromfunction',\n",
       " 'fromiter',\n",
       " 'frompyfunc',\n",
       " 'fromregex',\n",
       " 'fromstring',\n",
       " 'full',\n",
       " 'full_like',\n",
       " 'gcd',\n",
       " 'generic',\n",
       " 'genfromtxt',\n",
       " 'geomspace',\n",
       " 'get_array_wrap',\n",
       " 'get_include',\n",
       " 'get_printoptions',\n",
       " 'getbufsize',\n",
       " 'geterr',\n",
       " 'geterrcall',\n",
       " 'geterrobj',\n",
       " 'gradient',\n",
       " 'greater',\n",
       " 'greater_equal',\n",
       " 'half',\n",
       " 'hamming',\n",
       " 'hanning',\n",
       " 'heaviside',\n",
       " 'histogram',\n",
       " 'histogram2d',\n",
       " 'histogram_bin_edges',\n",
       " 'histogramdd',\n",
       " 'hsplit',\n",
       " 'hstack',\n",
       " 'hypot',\n",
       " 'i0',\n",
       " 'identity',\n",
       " 'iinfo',\n",
       " 'imag',\n",
       " 'in1d',\n",
       " 'index_exp',\n",
       " 'indices',\n",
       " 'inexact',\n",
       " 'inf',\n",
       " 'info',\n",
       " 'infty',\n",
       " 'inner',\n",
       " 'insert',\n",
       " 'int0',\n",
       " 'int16',\n",
       " 'int32',\n",
       " 'int64',\n",
       " 'int8',\n",
       " 'int_',\n",
       " 'intc',\n",
       " 'integer',\n",
       " 'interp',\n",
       " 'intersect1d',\n",
       " 'intp',\n",
       " 'invert',\n",
       " 'is_busday',\n",
       " 'isclose',\n",
       " 'iscomplex',\n",
       " 'iscomplexobj',\n",
       " 'isfinite',\n",
       " 'isfortran',\n",
       " 'isin',\n",
       " 'isinf',\n",
       " 'isnan',\n",
       " 'isnat',\n",
       " 'isneginf',\n",
       " 'isposinf',\n",
       " 'isreal',\n",
       " 'isrealobj',\n",
       " 'isscalar',\n",
       " 'issctype',\n",
       " 'issubclass_',\n",
       " 'issubdtype',\n",
       " 'issubsctype',\n",
       " 'iterable',\n",
       " 'ix_',\n",
       " 'kaiser',\n",
       " 'kernel_version',\n",
       " 'kron',\n",
       " 'lcm',\n",
       " 'ldexp',\n",
       " 'left_shift',\n",
       " 'less',\n",
       " 'less_equal',\n",
       " 'lexsort',\n",
       " 'lib',\n",
       " 'linalg',\n",
       " 'linspace',\n",
       " 'little_endian',\n",
       " 'load',\n",
       " 'loads',\n",
       " 'loadtxt',\n",
       " 'log',\n",
       " 'log10',\n",
       " 'log1p',\n",
       " 'log2',\n",
       " 'logaddexp',\n",
       " 'logaddexp2',\n",
       " 'logical_and',\n",
       " 'logical_not',\n",
       " 'logical_or',\n",
       " 'logical_xor',\n",
       " 'logspace',\n",
       " 'longcomplex',\n",
       " 'longdouble',\n",
       " 'longfloat',\n",
       " 'longlong',\n",
       " 'lookfor',\n",
       " 'ma',\n",
       " 'mafromtxt',\n",
       " 'mask_indices',\n",
       " 'mat',\n",
       " 'math',\n",
       " 'matmul',\n",
       " 'matrix',\n",
       " 'matrixlib',\n",
       " 'max',\n",
       " 'maximum',\n",
       " 'maximum_sctype',\n",
       " 'may_share_memory',\n",
       " 'mean',\n",
       " 'median',\n",
       " 'memmap',\n",
       " 'meshgrid',\n",
       " 'mgrid',\n",
       " 'min',\n",
       " 'min_scalar_type',\n",
       " 'minimum',\n",
       " 'mintypecode',\n",
       " 'mkl',\n",
       " 'mod',\n",
       " 'modf',\n",
       " 'moveaxis',\n",
       " 'msort',\n",
       " 'multiply',\n",
       " 'nan',\n",
       " 'nan_to_num',\n",
       " 'nanargmax',\n",
       " 'nanargmin',\n",
       " 'nancumprod',\n",
       " 'nancumsum',\n",
       " 'nanmax',\n",
       " 'nanmean',\n",
       " 'nanmedian',\n",
       " 'nanmin',\n",
       " 'nanpercentile',\n",
       " 'nanprod',\n",
       " 'nanquantile',\n",
       " 'nanstd',\n",
       " 'nansum',\n",
       " 'nanvar',\n",
       " 'nbytes',\n",
       " 'ndarray',\n",
       " 'ndenumerate',\n",
       " 'ndfromtxt',\n",
       " 'ndim',\n",
       " 'ndindex',\n",
       " 'nditer',\n",
       " 'negative',\n",
       " 'nested_iters',\n",
       " 'newaxis',\n",
       " 'nextafter',\n",
       " 'nonzero',\n",
       " 'not_equal',\n",
       " 'numarray',\n",
       " 'number',\n",
       " 'obj2sctype',\n",
       " 'object0',\n",
       " 'object_',\n",
       " 'ogrid',\n",
       " 'oldnumeric',\n",
       " 'ones',\n",
       " 'ones_like',\n",
       " 'os',\n",
       " 'outer',\n",
       " 'packbits',\n",
       " 'pad',\n",
       " 'partition',\n",
       " 'percentile',\n",
       " 'pi',\n",
       " 'piecewise',\n",
       " 'place',\n",
       " 'poly',\n",
       " 'poly1d',\n",
       " 'polyadd',\n",
       " 'polyder',\n",
       " 'polydiv',\n",
       " 'polyfit',\n",
       " 'polyint',\n",
       " 'polymul',\n",
       " 'polynomial',\n",
       " 'polysub',\n",
       " 'polyval',\n",
       " 'positive',\n",
       " 'power',\n",
       " 'printoptions',\n",
       " 'prod',\n",
       " 'product',\n",
       " 'promote_types',\n",
       " 'ptp',\n",
       " 'put',\n",
       " 'put_along_axis',\n",
       " 'putmask',\n",
       " 'quantile',\n",
       " 'r_',\n",
       " 'rad2deg',\n",
       " 'radians',\n",
       " 'random',\n",
       " 'ravel',\n",
       " 'ravel_multi_index',\n",
       " 'real',\n",
       " 'real_if_close',\n",
       " 'rec',\n",
       " 'recarray',\n",
       " 'recfromcsv',\n",
       " 'recfromtxt',\n",
       " 'reciprocal',\n",
       " 'record',\n",
       " 'remainder',\n",
       " 'repeat',\n",
       " 'require',\n",
       " 'reshape',\n",
       " 'resize',\n",
       " 'result_type',\n",
       " 'right_shift',\n",
       " 'rint',\n",
       " 'roll',\n",
       " 'rollaxis',\n",
       " 'roots',\n",
       " 'rot90',\n",
       " 'round',\n",
       " 'round_',\n",
       " 'row_stack',\n",
       " 's_',\n",
       " 'safe_eval',\n",
       " 'save',\n",
       " 'savetxt',\n",
       " 'savez',\n",
       " 'savez_compressed',\n",
       " 'sctype2char',\n",
       " 'sctypeDict',\n",
       " 'sctypes',\n",
       " 'searchsorted',\n",
       " 'select',\n",
       " 'set_numeric_ops',\n",
       " 'set_printoptions',\n",
       " 'set_string_function',\n",
       " 'setbufsize',\n",
       " 'setdiff1d',\n",
       " 'seterr',\n",
       " 'seterrcall',\n",
       " 'seterrobj',\n",
       " 'setxor1d',\n",
       " 'shape',\n",
       " 'shares_memory',\n",
       " 'short',\n",
       " 'show_config',\n",
       " 'sign',\n",
       " 'signbit',\n",
       " 'signedinteger',\n",
       " 'sin',\n",
       " 'sinc',\n",
       " 'single',\n",
       " 'singlecomplex',\n",
       " 'sinh',\n",
       " 'size',\n",
       " 'sometrue',\n",
       " 'sort',\n",
       " 'sort_complex',\n",
       " 'source',\n",
       " 'spacing',\n",
       " 'split',\n",
       " 'sqrt',\n",
       " 'square',\n",
       " 'squeeze',\n",
       " 'stack',\n",
       " 'std',\n",
       " 'str0',\n",
       " 'str_',\n",
       " 'string_',\n",
       " 'subtract',\n",
       " 'sum',\n",
       " 'swapaxes',\n",
       " 'sys',\n",
       " 'take',\n",
       " 'take_along_axis',\n",
       " 'tan',\n",
       " 'tanh',\n",
       " 'tensordot',\n",
       " 'test',\n",
       " 'testing',\n",
       " 'tile',\n",
       " 'timedelta64',\n",
       " 'trace',\n",
       " 'tracemalloc_domain',\n",
       " 'transpose',\n",
       " 'trapz',\n",
       " 'tri',\n",
       " 'tril',\n",
       " 'tril_indices',\n",
       " 'tril_indices_from',\n",
       " 'trim_zeros',\n",
       " 'triu',\n",
       " 'triu_indices',\n",
       " 'triu_indices_from',\n",
       " 'true_divide',\n",
       " 'trunc',\n",
       " 'typeDict',\n",
       " 'typecodes',\n",
       " 'typename',\n",
       " 'ubyte',\n",
       " 'ufunc',\n",
       " 'uint',\n",
       " 'uint0',\n",
       " 'uint16',\n",
       " 'uint32',\n",
       " 'uint64',\n",
       " 'uint8',\n",
       " 'uintc',\n",
       " 'uintp',\n",
       " 'ulonglong',\n",
       " 'unicode_',\n",
       " 'union1d',\n",
       " 'unique',\n",
       " 'unpackbits',\n",
       " 'unravel_index',\n",
       " 'unsignedinteger',\n",
       " 'unwrap',\n",
       " 'use_hugepage',\n",
       " 'ushort',\n",
       " 'vander',\n",
       " 'var',\n",
       " 'vdot',\n",
       " 'vectorize',\n",
       " 'version',\n",
       " 'void',\n",
       " 'void0',\n",
       " 'vsplit',\n",
       " 'vstack',\n",
       " 'warnings',\n",
       " 'where',\n",
       " 'who',\n",
       " 'zeros',\n",
       " 'zeros_like']"
      ]
     },
     "execution_count": 238,
     "metadata": {},
     "output_type": "execute_result"
    }
   ],
   "source": [
    "dir(np)"
   ]
  },
  {
   "cell_type": "code",
   "execution_count": 239,
   "id": "0951c2ab-0a7a-4be2-8f4a-accce1941722",
   "metadata": {},
   "outputs": [
    {
     "name": "stdout",
     "output_type": "stream",
     "text": [
      "1.17 s ± 29 ms per loop (mean ± std. dev. of 7 runs, 1 loop each)\n"
     ]
    }
   ],
   "source": [
    "big_array = np.random.randint(1, 100, size=1000000) \n",
    "%timeit compute_reciprocals(big_array)"
   ]
  },
  {
   "cell_type": "code",
   "execution_count": 240,
   "id": "2fa3f716-a93f-400e-9c32-1a6df5ae97c9",
   "metadata": {},
   "outputs": [
    {
     "name": "stdout",
     "output_type": "stream",
     "text": [
      "1.08 ms ± 57.6 µs per loop (mean ± std. dev. of 7 runs, 1000 loops each)\n"
     ]
    }
   ],
   "source": [
    "%timeit 1.0/big_array"
   ]
  },
  {
   "cell_type": "code",
   "execution_count": null,
   "id": "b8e9362b-fa7a-4c69-a2a0-db5ad4b4e712",
   "metadata": {},
   "outputs": [],
   "source": []
  },
  {
   "cell_type": "code",
   "execution_count": null,
   "id": "6b15ba08-78b6-476f-bd8d-2e4fce05f7b3",
   "metadata": {},
   "outputs": [],
   "source": []
  },
  {
   "cell_type": "code",
   "execution_count": 241,
   "id": "be8a4f9c-2440-41c3-8506-0073a08dbe23",
   "metadata": {},
   "outputs": [],
   "source": [
    "#유니버셜 함수"
   ]
  },
  {
   "cell_type": "code",
   "execution_count": 242,
   "id": "d867e180-0f78-4b61-8251-ed4af4a0f19a",
   "metadata": {},
   "outputs": [
    {
     "data": {
      "text/plain": [
       "array([2, 1, 0, 1, 2])"
      ]
     },
     "execution_count": 242,
     "metadata": {},
     "output_type": "execute_result"
    }
   ],
   "source": [
    "x = np.array([-2, -1, 0, 1, 2])\n",
    "abs(x) #파이썬내장함수"
   ]
  },
  {
   "cell_type": "code",
   "execution_count": 244,
   "id": "7c473b93-af3f-4f9e-8717-eeba3cf5c098",
   "metadata": {},
   "outputs": [
    {
     "data": {
      "text/plain": [
       "array([2, 1, 0, 1, 2])"
      ]
     },
     "execution_count": 244,
     "metadata": {},
     "output_type": "execute_result"
    }
   ],
   "source": [
    "np.abs(x) #넘파이함수 #이거사용하는게 좋음 "
   ]
  },
  {
   "cell_type": "code",
   "execution_count": 245,
   "id": "1a0e412b-5964-4c58-a05f-906697ebc4bf",
   "metadata": {},
   "outputs": [
    {
     "name": "stdout",
     "output_type": "stream",
     "text": [
      "261 ns ± 2.21 ns per loop (mean ± std. dev. of 7 runs, 1000000 loops each)\n"
     ]
    }
   ],
   "source": [
    "%timeit abs(x)\n",
    "x=np.random.randint(-100,100,size=1000000)"
   ]
  },
  {
   "cell_type": "code",
   "execution_count": 246,
   "id": "878fcc9e-12ab-409d-a8fe-af8f50be8882",
   "metadata": {},
   "outputs": [
    {
     "name": "stdout",
     "output_type": "stream",
     "text": [
      "815 µs ± 51.7 µs per loop (mean ± std. dev. of 7 runs, 1000 loops each)\n"
     ]
    }
   ],
   "source": [
    "%timeit np.abs(x) #훨씬 빠름"
   ]
  },
  {
   "cell_type": "code",
   "execution_count": 247,
   "id": "acfa1d19-50aa-4a87-a3bb-ba6abf53ac76",
   "metadata": {},
   "outputs": [
    {
     "name": "stdout",
     "output_type": "stream",
     "text": [
      "895 µs ± 61.9 µs per loop (mean ± std. dev. of 7 runs, 1000 loops each)\n"
     ]
    }
   ],
   "source": [
    "%timeit np.absolute(x)"
   ]
  },
  {
   "cell_type": "code",
   "execution_count": null,
   "id": "bb2b0e94-9f49-46df-b13a-e915536917fb",
   "metadata": {},
   "outputs": [],
   "source": []
  },
  {
   "cell_type": "code",
   "execution_count": null,
   "id": "e11f72b7-4599-4aed-b505-da1176d3d3db",
   "metadata": {},
   "outputs": [],
   "source": []
  },
  {
   "cell_type": "code",
   "execution_count": 248,
   "id": "f3b0208f-7578-4a1f-888c-ebd25095c83c",
   "metadata": {},
   "outputs": [],
   "source": [
    "#Trigo Func"
   ]
  },
  {
   "cell_type": "code",
   "execution_count": 249,
   "id": "a4c90c05-85b7-416f-a9b1-de49f50d4b54",
   "metadata": {},
   "outputs": [
    {
     "data": {
      "text/plain": [
       "2.718281828459045"
      ]
     },
     "execution_count": 249,
     "metadata": {},
     "output_type": "execute_result"
    }
   ],
   "source": [
    "np.e"
   ]
  },
  {
   "cell_type": "code",
   "execution_count": 250,
   "id": "4a8a4b41-55ea-497c-a6a5-c59ef4ba3d89",
   "metadata": {},
   "outputs": [],
   "source": [
    "theta = np.linspace(0, np.pi, 3)"
   ]
  },
  {
   "cell_type": "code",
   "execution_count": 251,
   "id": "468efb5a-cef9-493e-887b-b7b62583b1ab",
   "metadata": {},
   "outputs": [],
   "source": [
    "#Exponent L"
   ]
  },
  {
   "cell_type": "code",
   "execution_count": 252,
   "id": "b1e277ea-f6ea-4ea1-928b-f376da786561",
   "metadata": {},
   "outputs": [],
   "source": [
    "#aggregate"
   ]
  },
  {
   "cell_type": "code",
   "execution_count": 254,
   "id": "572bf35d-224d-4f73-9844-61c380110df8",
   "metadata": {},
   "outputs": [
    {
     "data": {
      "text/plain": [
       "array([2, 3, 4, 5, 6, 7])"
      ]
     },
     "execution_count": 254,
     "metadata": {},
     "output_type": "execute_result"
    }
   ],
   "source": [
    "x=np.arange(6)\n",
    "np.add(x,2) #각각 x에 2를 더한다 "
   ]
  },
  {
   "cell_type": "code",
   "execution_count": 255,
   "id": "63522d4b-5f7b-43dd-8ccf-d9d6a52cdcc3",
   "metadata": {},
   "outputs": [
    {
     "data": {
      "text/plain": [
       "15"
      ]
     },
     "execution_count": 255,
     "metadata": {},
     "output_type": "execute_result"
    }
   ],
   "source": [
    "x=np.arange(6)\n",
    "np.add.reduce(x) #"
   ]
  },
  {
   "cell_type": "code",
   "execution_count": 256,
   "id": "23fd7472-f123-4949-a37c-9e2f1beec537",
   "metadata": {},
   "outputs": [
    {
     "data": {
      "text/plain": [
       "120"
      ]
     },
     "execution_count": 256,
     "metadata": {},
     "output_type": "execute_result"
    }
   ],
   "source": [
    "x=np.arange(1,6)\n",
    "np.multiply.reduce(x) #"
   ]
  },
  {
   "cell_type": "code",
   "execution_count": null,
   "id": "16c2b679-dab6-4d48-980c-65296e0206c3",
   "metadata": {},
   "outputs": [],
   "source": []
  },
  {
   "cell_type": "code",
   "execution_count": 259,
   "id": "5113e08f-2ea7-41b7-a459-10e01bcba7fc",
   "metadata": {},
   "outputs": [
    {
     "data": {
      "text/plain": [
       "2.718281828459045"
      ]
     },
     "execution_count": 259,
     "metadata": {},
     "output_type": "execute_result"
    }
   ],
   "source": [
    "np.e"
   ]
  },
  {
   "cell_type": "code",
   "execution_count": 258,
   "id": "77e1f6e9-6163-4640-9d66-134eb9d56cee",
   "metadata": {},
   "outputs": [
    {
     "data": {
      "text/plain": [
       "array([[ 1,  2,  3,  4,  5],\n",
       "       [ 2,  4,  6,  8, 10],\n",
       "       [ 3,  6,  9, 12, 15],\n",
       "       [ 4,  8, 12, 16, 20],\n",
       "       [ 5, 10, 15, 20, 25]])"
      ]
     },
     "execution_count": 258,
     "metadata": {},
     "output_type": "execute_result"
    }
   ],
   "source": [
    "x = np.arange(1, 6)\n",
    "np.multiply.outer(x, x) #곱에 대해 아우터"
   ]
  },
  {
   "cell_type": "code",
   "execution_count": null,
   "id": "aeead122-4946-4a90-8def-9542aef1bcf4",
   "metadata": {},
   "outputs": [],
   "source": []
  },
  {
   "cell_type": "code",
   "execution_count": null,
   "id": "9cc9a9c7-fbcd-4113-95f8-982cae344ee1",
   "metadata": {},
   "outputs": [],
   "source": []
  },
  {
   "cell_type": "code",
   "execution_count": null,
   "id": "3977d606-d266-43c5-8378-7473c879f297",
   "metadata": {},
   "outputs": [],
   "source": []
  },
  {
   "cell_type": "code",
   "execution_count": null,
   "id": "dd911301-ae44-4772-bb94-6a448a0ec0cf",
   "metadata": {},
   "outputs": [],
   "source": []
  },
  {
   "cell_type": "code",
   "execution_count": 262,
   "id": "3e382032-36af-439b-a152-579239e11cfc",
   "metadata": {},
   "outputs": [],
   "source": [
    "###2-4Aggregations"
   ]
  },
  {
   "cell_type": "code",
   "execution_count": null,
   "id": "fcdde188-5027-4a97-9e81-354530cf8d7f",
   "metadata": {},
   "outputs": [],
   "source": []
  },
  {
   "cell_type": "code",
   "execution_count": null,
   "id": "89aaa5c0-8e4d-492b-b653-0ac3bcffcb85",
   "metadata": {},
   "outputs": [],
   "source": []
  },
  {
   "cell_type": "code",
   "execution_count": 263,
   "id": "044620c9-0c7d-4dec-a44e-2fa2f7623bd2",
   "metadata": {},
   "outputs": [
    {
     "name": "stdout",
     "output_type": "stream",
     "text": [
      "[[0.25349293 0.53481063 0.80963936 0.1754205 ]\n",
      " [0.60119899 0.23045352 0.32941243 0.66816198]\n",
      " [0.25400458 0.38042115 0.1192953  0.9915106 ]]\n"
     ]
    }
   ],
   "source": [
    "M = np.random.random((3, 4))\n",
    "print(M)"
   ]
  },
  {
   "cell_type": "code",
   "execution_count": 264,
   "id": "1719962d-2b82-4bef-9409-c88ce997973a",
   "metadata": {},
   "outputs": [
    {
     "data": {
      "text/plain": [
       "array([1.1086965 , 1.14568529, 1.25834709, 1.83509309])"
      ]
     },
     "execution_count": 264,
     "metadata": {},
     "output_type": "execute_result"
    }
   ],
   "source": [
    "sum(M)"
   ]
  },
  {
   "cell_type": "code",
   "execution_count": 265,
   "id": "d15a0d63-cd4b-4649-8a45-35750eb8c475",
   "metadata": {},
   "outputs": [],
   "source": [
    "#행의 합계"
   ]
  },
  {
   "cell_type": "code",
   "execution_count": 266,
   "id": "8672b38b-8898-4d0b-8995-5216187da808",
   "metadata": {},
   "outputs": [
    {
     "data": {
      "text/plain": [
       "array([1.77336342, 1.82922692, 1.74523163])"
      ]
     },
     "execution_count": 266,
     "metadata": {},
     "output_type": "execute_result"
    }
   ],
   "source": [
    "np.sum(M,axis=1)"
   ]
  },
  {
   "cell_type": "code",
   "execution_count": 267,
   "id": "67d9120c-d0cd-411f-9f01-54aa842d8b9e",
   "metadata": {},
   "outputs": [
    {
     "data": {
      "text/plain": [
       "array([ 1.,  2.,  3., nan])"
      ]
     },
     "execution_count": 267,
     "metadata": {},
     "output_type": "execute_result"
    }
   ],
   "source": [
    "x=np.array([1,2,3,np.NaN])\n",
    "x"
   ]
  },
  {
   "cell_type": "code",
   "execution_count": 268,
   "id": "ee71e4cf-5abf-4ab4-8d8b-3e464cd9a82a",
   "metadata": {},
   "outputs": [
    {
     "data": {
      "text/plain": [
       "6.0"
      ]
     },
     "execution_count": 268,
     "metadata": {},
     "output_type": "execute_result"
    }
   ],
   "source": [
    "#모르는 값이 있을떄\n",
    "np.nansum(x)"
   ]
  },
  {
   "cell_type": "code",
   "execution_count": 269,
   "id": "610f344c-6084-4d00-9fe4-8075ccb391d2",
   "metadata": {},
   "outputs": [
    {
     "data": {
      "text/plain": [
       "array([64, 94, 71, 44, 50, 30, 27, 76, 98])"
      ]
     },
     "execution_count": 269,
     "metadata": {},
     "output_type": "execute_result"
    }
   ],
   "source": [
    "x=np.random.randint(3,100,size=9)\n",
    "x"
   ]
  },
  {
   "cell_type": "code",
   "execution_count": 274,
   "id": "59f129f2-b680-40d9-90f2-3dba6315942a",
   "metadata": {},
   "outputs": [
    {
     "data": {
      "text/plain": [
       "8"
      ]
     },
     "execution_count": 274,
     "metadata": {},
     "output_type": "execute_result"
    }
   ],
   "source": [
    "#제일 큰 값 찾기\n",
    "np.argmax(x) #값의 인덱스 위치: 데이터는 원래 여러개. 수치가 아니라 위치를 찾을 때."
   ]
  },
  {
   "cell_type": "code",
   "execution_count": 275,
   "id": "42f47bf6-bbc5-4264-ac3e-59b7a5c6f25b",
   "metadata": {},
   "outputs": [
    {
     "data": {
      "text/plain": [
       "98"
      ]
     },
     "execution_count": 275,
     "metadata": {},
     "output_type": "execute_result"
    }
   ],
   "source": [
    "x[np.argmax(x)]"
   ]
  },
  {
   "cell_type": "code",
   "execution_count": null,
   "id": "dacc8521-1fb0-41ab-8335-04deb4b33d26",
   "metadata": {},
   "outputs": [],
   "source": []
  }
 ],
 "metadata": {
  "kernelspec": {
   "display_name": "Python 3 (ipykernel)",
   "language": "python",
   "name": "python3"
  },
  "language_info": {
   "codemirror_mode": {
    "name": "ipython",
    "version": 3
   },
   "file_extension": ".py",
   "mimetype": "text/x-python",
   "name": "python",
   "nbconvert_exporter": "python",
   "pygments_lexer": "ipython3",
   "version": "3.9.7"
  }
 },
 "nbformat": 4,
 "nbformat_minor": 5
}
