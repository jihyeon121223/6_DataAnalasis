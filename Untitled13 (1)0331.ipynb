{
 "cells": [
  {
   "cell_type": "markdown",
   "id": "1aff0ec9-f4df-4f07-926e-abc15288bed4",
   "metadata": {},
   "source": [
    "## File descriptions\n",
    "- sales_train.csv - the training set. Daily historical data from January 2013 to October 2015.\n",
    "- test.csv - the test set. You need to forecast the sales for these shops and products for November 2015.\n",
    "- sample_submission.csv - a sample submission file in the correct format.\n",
    "- items.csv - supplemental information about the items/products.\n",
    "- item_categories.csv  - supplemental information about the items categories.\n",
    "- shops.csv- supplemental information about the shops.\n",
    "\n",
    "## Data fields\n",
    "- ID - an Id that represents a (Shop, Item) tuple within the test set\n",
    "- shop_id - unique identifier of a shop\n",
    "- item_id - unique identifier of a product\n",
    "- item_category_id - unique identifier of item category\n",
    "- item_cnt_day - number of products sold. You are predicting a monthly amount of this measure\n",
    "- item_price - current price of an item\n",
    "- date - date in format dd/mm/yyyy\n",
    "- date_block_num - a consecutive month number, used for convenience. January 2013 is 0, February 2013 is 1,..., October 2015 is 33\n",
    "- item_name - name of item\n",
    "- shop_name - name of shop\n",
    "- item_category_name - name of item category"
   ]
  },
  {
   "cell_type": "code",
   "execution_count": 1,
   "id": "754e00b0-987b-4f21-8841-e3a7bef59f6f",
   "metadata": {},
   "outputs": [],
   "source": [
    "import numpy as np\n",
    "import pandas as pd"
   ]
  },
  {
   "cell_type": "code",
   "execution_count": 4,
   "id": "8bc8b52c-62ad-4919-95bd-5741fc85f0ea",
   "metadata": {},
   "outputs": [],
   "source": [
    "sales = pd.read_csv(\"../train_data/sales_train.csv\")\n",
    "test = pd.read_csv(\"../train_data/test.csv\")\n",
    "sample_submission = pd.read_csv(\"../train_data/sample_submission.csv\")\n",
    "items = pd.read_csv(\"../train_data/items.csv\") \n",
    "item_categories = pd.read_csv(\"../train_data/item_categories.csv\")\n",
    "shop = pd.read_csv(\"../train_data/shops.csv\")"
   ]
  },
  {
   "cell_type": "code",
   "execution_count": 7,
   "id": "87541f49-2a66-4870-bea3-ec7ca1a2be1e",
   "metadata": {},
   "outputs": [
    {
     "data": {
      "text/html": [
       "<div>\n",
       "<style scoped>\n",
       "    .dataframe tbody tr th:only-of-type {\n",
       "        vertical-align: middle;\n",
       "    }\n",
       "\n",
       "    .dataframe tbody tr th {\n",
       "        vertical-align: top;\n",
       "    }\n",
       "\n",
       "    .dataframe thead th {\n",
       "        text-align: right;\n",
       "    }\n",
       "</style>\n",
       "<table border=\"1\" class=\"dataframe\">\n",
       "  <thead>\n",
       "    <tr style=\"text-align: right;\">\n",
       "      <th></th>\n",
       "      <th>date</th>\n",
       "      <th>date_block_num</th>\n",
       "      <th>shop_id</th>\n",
       "      <th>item_id</th>\n",
       "      <th>item_price</th>\n",
       "      <th>item_cnt_day</th>\n",
       "    </tr>\n",
       "  </thead>\n",
       "  <tbody>\n",
       "    <tr>\n",
       "      <th>0</th>\n",
       "      <td>02.01.2013</td>\n",
       "      <td>0</td>\n",
       "      <td>59</td>\n",
       "      <td>22154</td>\n",
       "      <td>999.00</td>\n",
       "      <td>1.0</td>\n",
       "    </tr>\n",
       "    <tr>\n",
       "      <th>1</th>\n",
       "      <td>03.01.2013</td>\n",
       "      <td>0</td>\n",
       "      <td>25</td>\n",
       "      <td>2552</td>\n",
       "      <td>899.00</td>\n",
       "      <td>1.0</td>\n",
       "    </tr>\n",
       "    <tr>\n",
       "      <th>2</th>\n",
       "      <td>05.01.2013</td>\n",
       "      <td>0</td>\n",
       "      <td>25</td>\n",
       "      <td>2552</td>\n",
       "      <td>899.00</td>\n",
       "      <td>-1.0</td>\n",
       "    </tr>\n",
       "    <tr>\n",
       "      <th>3</th>\n",
       "      <td>06.01.2013</td>\n",
       "      <td>0</td>\n",
       "      <td>25</td>\n",
       "      <td>2554</td>\n",
       "      <td>1709.05</td>\n",
       "      <td>1.0</td>\n",
       "    </tr>\n",
       "    <tr>\n",
       "      <th>4</th>\n",
       "      <td>15.01.2013</td>\n",
       "      <td>0</td>\n",
       "      <td>25</td>\n",
       "      <td>2555</td>\n",
       "      <td>1099.00</td>\n",
       "      <td>1.0</td>\n",
       "    </tr>\n",
       "  </tbody>\n",
       "</table>\n",
       "</div>"
      ],
      "text/plain": [
       "         date  date_block_num  shop_id  item_id  item_price  item_cnt_day\n",
       "0  02.01.2013               0       59    22154      999.00           1.0\n",
       "1  03.01.2013               0       25     2552      899.00           1.0\n",
       "2  05.01.2013               0       25     2552      899.00          -1.0\n",
       "3  06.01.2013               0       25     2554     1709.05           1.0\n",
       "4  15.01.2013               0       25     2555     1099.00           1.0"
      ]
     },
     "execution_count": 7,
     "metadata": {},
     "output_type": "execute_result"
    }
   ],
   "source": [
    "sales.head()"
   ]
  },
  {
   "cell_type": "code",
   "execution_count": 18,
   "id": "3657e125-6a96-458c-8002-262ffa00e69e",
   "metadata": {},
   "outputs": [
    {
     "data": {
      "text/html": [
       "<div>\n",
       "<style scoped>\n",
       "    .dataframe tbody tr th:only-of-type {\n",
       "        vertical-align: middle;\n",
       "    }\n",
       "\n",
       "    .dataframe tbody tr th {\n",
       "        vertical-align: top;\n",
       "    }\n",
       "\n",
       "    .dataframe thead th {\n",
       "        text-align: right;\n",
       "    }\n",
       "</style>\n",
       "<table border=\"1\" class=\"dataframe\">\n",
       "  <thead>\n",
       "    <tr style=\"text-align: right;\">\n",
       "      <th></th>\n",
       "      <th>date</th>\n",
       "      <th>date_block_num</th>\n",
       "      <th>shop_id</th>\n",
       "      <th>item_id</th>\n",
       "      <th>item_price</th>\n",
       "      <th>item_cnt_day</th>\n",
       "    </tr>\n",
       "  </thead>\n",
       "  <tbody>\n",
       "    <tr>\n",
       "      <th>151</th>\n",
       "      <td>07.01.2013</td>\n",
       "      <td>0</td>\n",
       "      <td>25</td>\n",
       "      <td>2252</td>\n",
       "      <td>599.0</td>\n",
       "      <td>1.0</td>\n",
       "    </tr>\n",
       "    <tr>\n",
       "      <th>152</th>\n",
       "      <td>12.01.2013</td>\n",
       "      <td>0</td>\n",
       "      <td>25</td>\n",
       "      <td>2252</td>\n",
       "      <td>599.0</td>\n",
       "      <td>1.0</td>\n",
       "    </tr>\n",
       "    <tr>\n",
       "      <th>153</th>\n",
       "      <td>18.01.2013</td>\n",
       "      <td>0</td>\n",
       "      <td>25</td>\n",
       "      <td>2252</td>\n",
       "      <td>599.0</td>\n",
       "      <td>1.0</td>\n",
       "    </tr>\n",
       "    <tr>\n",
       "      <th>154</th>\n",
       "      <td>21.01.2013</td>\n",
       "      <td>0</td>\n",
       "      <td>25</td>\n",
       "      <td>2252</td>\n",
       "      <td>599.0</td>\n",
       "      <td>1.0</td>\n",
       "    </tr>\n",
       "    <tr>\n",
       "      <th>155</th>\n",
       "      <td>23.01.2013</td>\n",
       "      <td>0</td>\n",
       "      <td>25</td>\n",
       "      <td>2252</td>\n",
       "      <td>599.0</td>\n",
       "      <td>1.0</td>\n",
       "    </tr>\n",
       "    <tr>\n",
       "      <th>...</th>\n",
       "      <td>...</td>\n",
       "      <td>...</td>\n",
       "      <td>...</td>\n",
       "      <td>...</td>\n",
       "      <td>...</td>\n",
       "      <td>...</td>\n",
       "    </tr>\n",
       "    <tr>\n",
       "      <th>2878656</th>\n",
       "      <td>16.09.2015</td>\n",
       "      <td>32</td>\n",
       "      <td>25</td>\n",
       "      <td>2252</td>\n",
       "      <td>399.0</td>\n",
       "      <td>1.0</td>\n",
       "    </tr>\n",
       "    <tr>\n",
       "      <th>2934717</th>\n",
       "      <td>24.10.2015</td>\n",
       "      <td>33</td>\n",
       "      <td>25</td>\n",
       "      <td>2252</td>\n",
       "      <td>399.0</td>\n",
       "      <td>1.0</td>\n",
       "    </tr>\n",
       "    <tr>\n",
       "      <th>2934739</th>\n",
       "      <td>11.10.2015</td>\n",
       "      <td>33</td>\n",
       "      <td>25</td>\n",
       "      <td>2252</td>\n",
       "      <td>399.0</td>\n",
       "      <td>1.0</td>\n",
       "    </tr>\n",
       "    <tr>\n",
       "      <th>2934740</th>\n",
       "      <td>12.10.2015</td>\n",
       "      <td>33</td>\n",
       "      <td>25</td>\n",
       "      <td>2252</td>\n",
       "      <td>399.0</td>\n",
       "      <td>1.0</td>\n",
       "    </tr>\n",
       "    <tr>\n",
       "      <th>2934741</th>\n",
       "      <td>23.10.2015</td>\n",
       "      <td>33</td>\n",
       "      <td>25</td>\n",
       "      <td>2252</td>\n",
       "      <td>399.0</td>\n",
       "      <td>1.0</td>\n",
       "    </tr>\n",
       "  </tbody>\n",
       "</table>\n",
       "<p>120 rows × 6 columns</p>\n",
       "</div>"
      ],
      "text/plain": [
       "               date  date_block_num  shop_id  item_id  item_price  \\\n",
       "151      07.01.2013               0       25     2252       599.0   \n",
       "152      12.01.2013               0       25     2252       599.0   \n",
       "153      18.01.2013               0       25     2252       599.0   \n",
       "154      21.01.2013               0       25     2252       599.0   \n",
       "155      23.01.2013               0       25     2252       599.0   \n",
       "...             ...             ...      ...      ...         ...   \n",
       "2878656  16.09.2015              32       25     2252       399.0   \n",
       "2934717  24.10.2015              33       25     2252       399.0   \n",
       "2934739  11.10.2015              33       25     2252       399.0   \n",
       "2934740  12.10.2015              33       25     2252       399.0   \n",
       "2934741  23.10.2015              33       25     2252       399.0   \n",
       "\n",
       "         item_cnt_day  \n",
       "151               1.0  \n",
       "152               1.0  \n",
       "153               1.0  \n",
       "154               1.0  \n",
       "155               1.0  \n",
       "...               ...  \n",
       "2878656           1.0  \n",
       "2934717           1.0  \n",
       "2934739           1.0  \n",
       "2934740           1.0  \n",
       "2934741           1.0  \n",
       "\n",
       "[120 rows x 6 columns]"
      ]
     },
     "execution_count": 18,
     "metadata": {},
     "output_type": "execute_result"
    }
   ],
   "source": [
    "sales.loc[(sales.shop_id==25) & (sales.item_id==2252),:]"
   ]
  },
  {
   "cell_type": "code",
   "execution_count": 21,
   "id": "4bcd62e0-a273-41d4-9ccb-18b0b4d8f892",
   "metadata": {},
   "outputs": [],
   "source": [
    "df = sales.loc[sales.item_id==2252,[\"date\",\"item_cnt_day\"]]"
   ]
  },
  {
   "cell_type": "code",
   "execution_count": 28,
   "id": "61d01c54-512b-4a1b-b26a-5647e6d3a9f7",
   "metadata": {},
   "outputs": [],
   "source": [
    "month = sales.date.str.slice(3,5)\n",
    "year = sales.date.str.slice(6,10)\n",
    "df[\"year\"] = year\n",
    "df[\"month\"] = month"
   ]
  },
  {
   "cell_type": "code",
   "execution_count": 32,
   "id": "6fff6a99-7342-479a-8bf9-d4855f769a24",
   "metadata": {},
   "outputs": [],
   "source": [
    "df = df.groupby([\"year\",\"month\"]).item_cnt_day.sum().reset_index()"
   ]
  },
  {
   "cell_type": "code",
   "execution_count": 42,
   "id": "3ecdf303-1958-472e-9342-911e6a93156a",
   "metadata": {},
   "outputs": [],
   "source": [
    "df[\"yymm\"] = df.year+'-'+df.month"
   ]
  },
  {
   "cell_type": "code",
   "execution_count": 38,
   "id": "6a41af72-5dca-4305-9840-eb42a47d1306",
   "metadata": {},
   "outputs": [],
   "source": [
    "df.drop(\"yearmonth\",inplace=True,axis=1)"
   ]
  },
  {
   "cell_type": "code",
   "execution_count": 44,
   "id": "338ab652-cd53-43e3-83d3-0bc9ab10f5c4",
   "metadata": {},
   "outputs": [
    {
     "data": {
      "text/plain": [
       "[<matplotlib.lines.Line2D at 0x7fa2926a35b0>]"
      ]
     },
     "execution_count": 44,
     "metadata": {},
     "output_type": "execute_result"
    },
    {
     "data": {
      "image/png": "[encoded data removed]",
      "text/plain": [
       "<Figure size 432x288 with 1 Axes>"
      ]
     },
     "metadata": {
      "needs_background": "light"
     },
     "output_type": "display_data"
    }
   ],
   "source": [
    "import matplotlib.pyplot as plt\n",
    "plt.plot(df.yymm,df.item_cnt_day)"
   ]
  },
  {
   "cell_type": "code",
   "execution_count": 51,
   "id": "ecdda098-fd79-4c41-9e45-68ad88a488e7",
   "metadata": {},
   "outputs": [],
   "source": [
    "yymm = sales.date.str.slice(6,10)+'-'+sales.date.str.slice(3,5)"
   ]
  },
  {
   "cell_type": "code",
   "execution_count": 52,
   "id": "ec1560c5-492f-4847-9fcb-1f60289a1519",
   "metadata": {},
   "outputs": [],
   "source": [
    "sales[\"yymm\"] = yymm"
   ]
  },
  {
   "cell_type": "code",
   "execution_count": 50,
   "id": "317adc05-175e-4ea2-b4e8-51cf013f2113",
   "metadata": {},
   "outputs": [],
   "source": [
    "sales.drop([\"yymm\"],axis=1,inplace=True)"
   ]
  },
  {
   "cell_type": "code",
   "execution_count": 58,
   "id": "a2f958fb-9a67-48fb-99d2-070059d75ee4",
   "metadata": {},
   "outputs": [],
   "source": [
    "df = sales.groupby([\"yymm\",\"item_id\"]).item_cnt_day.sum().reset_index()"
   ]
  },
  {
   "cell_type": "code",
   "execution_count": 65,
   "id": "adf83ecc-15f7-4d53-a33c-d48148ad1358",
   "metadata": {},
   "outputs": [],
   "source": [
    "df[\"ym\"] = df.yymm.str.replace('-','').astype(\"int\")"
   ]
  },
  {
   "cell_type": "code",
   "execution_count": 68,
   "id": "80c42dd6-cef6-4d1b-aa29-57c57c02c5bf",
   "metadata": {},
   "outputs": [],
   "source": [
    "X = df.loc[:,[\"item_id\",\"ym\"]]\n",
    "y = df.item_cnt_day"
   ]
  },
  {
   "cell_type": "code",
   "execution_count": 69,
   "id": "a9f5fa05-b915-49e3-8817-8dfde4eda7e1",
   "metadata": {},
   "outputs": [],
   "source": [
    "from sklearn.model_selection import train_test_split"
   ]
  },
  {
   "cell_type": "code",
   "execution_count": 72,
   "id": "6cf5a361-8a31-4bbe-aebb-b1eed982d171",
   "metadata": {},
   "outputs": [],
   "source": [
    "from xgboost import XGBRegressor"
   ]
  },
  {
   "cell_type": "code",
   "execution_count": 73,
   "id": "cdd8e0b1-6665-4cc4-996e-1d0a1a43030a",
   "metadata": {},
   "outputs": [],
   "source": [
    "X_train, X_test, y_train, y_test = train_test_split(X,y,test_size=0.2)"
   ]
  },
  {
   "cell_type": "code",
   "execution_count": 77,
   "id": "df3ab73d-7857-468f-80be-55a807fd20c9",
   "metadata": {},
   "outputs": [],
   "source": [
    "xgb = XGBRegressor(verbosity=1,n_estimators=200)"
   ]
  },
  {
   "cell_type": "code",
   "execution_count": 78,
   "id": "dbb0dc2b-b138-4c7b-9f51-0a93c61d34b6",
   "metadata": {},
   "outputs": [
    {
     "data": {
      "text/plain": [
       "XGBRegressor(base_score=0.5, booster='gbtree', colsample_bylevel=1,\n",
       "             colsample_bynode=1, colsample_bytree=1, enable_categorical=False,\n",
       "             gamma=0, gpu_id=-1, importance_type=None,\n",
       "             interaction_constraints='', learning_rate=0.300000012,\n",
       "             max_delta_step=0, max_depth=6, min_child_weight=1, missing=nan,\n",
       "             monotone_constraints='()', n_estimators=200, n_jobs=1,\n",
       "             num_parallel_tree=1, predictor='auto', random_state=0, reg_alpha=0,\n",
       "             reg_lambda=1, scale_pos_weight=1, subsample=1, tree_method='exact',\n",
       "             validate_parameters=1, verbosity=1)"
      ]
     },
     "execution_count": 78,
     "metadata": {},
     "output_type": "execute_result"
    }
   ],
   "source": [
    "xgb.fit(X_train, y_train)"
   ]
  },
  {
   "cell_type": "code",
   "execution_count": 81,
   "id": "66a74c26-7321-48a3-948a-5cf3af7ba7ee",
   "metadata": {},
   "outputs": [],
   "source": [
    "y_hat = xgb.predict(X_test)"
   ]
  },
  {
   "cell_type": "code",
   "execution_count": 82,
   "id": "580eddbe-74dc-4809-99ad-3107f9f28276",
   "metadata": {},
   "outputs": [
    {
     "name": "stderr",
     "output_type": "stream",
     "text": [
      "/tmp/ipykernel_4032/2146044199.py:1: SettingWithCopyWarning: \n",
      "A value is trying to be set on a copy of a slice from a DataFrame.\n",
      "Try using .loc[row_indexer,col_indexer] = value instead\n",
      "\n",
      "See the caveats in the documentation: https://pandas.pydata.org/pandas-docs/stable/user_guide/indexing.html#returning-a-view-versus-a-copy\n",
      "  X_test[\"real\"] = y_test\n"
     ]
    }
   ],
   "source": [
    "X_test[\"real\"] = y_test"
   ]
  },
  {
   "cell_type": "code",
   "execution_count": 83,
   "id": "a18be571-3172-472d-a0e7-5ea240d50609",
   "metadata": {},
   "outputs": [
    {
     "name": "stderr",
     "output_type": "stream",
     "text": [
      "/tmp/ipykernel_4032/2168807172.py:1: SettingWithCopyWarning: \n",
      "A value is trying to be set on a copy of a slice from a DataFrame.\n",
      "Try using .loc[row_indexer,col_indexer] = value instead\n",
      "\n",
      "See the caveats in the documentation: https://pandas.pydata.org/pandas-docs/stable/user_guide/indexing.html#returning-a-view-versus-a-copy\n",
      "  X_test[\"predict\"] = y_hat\n"
     ]
    }
   ],
   "source": [
    "X_test[\"predict\"] = y_hat"
   ]
  },
  {
   "cell_type": "code",
   "execution_count": 87,
   "id": "096c6487-e8ef-41b0-b61f-69b9d9f58782",
   "metadata": {},
   "outputs": [
    {
     "data": {
      "text/plain": [
       "1853.9649978056418"
      ]
     },
     "execution_count": 87,
     "metadata": {},
     "output_type": "execute_result"
    }
   ],
   "source": [
    "np.sum((X_test.real - X_test.predict)**2)/len(X_test)"
   ]
  },
  {
   "cell_type": "code",
   "execution_count": 88,
   "id": "42e55be5-828e-4b36-90eb-ce21b61807a0",
   "metadata": {},
   "outputs": [
    {
     "data": {
      "text/html": [
       "<div>\n",
       "<style scoped>\n",
       "    .dataframe tbody tr th:only-of-type {\n",
       "        vertical-align: middle;\n",
       "    }\n",
       "\n",
       "    .dataframe tbody tr th {\n",
       "        vertical-align: top;\n",
       "    }\n",
       "\n",
       "    .dataframe thead th {\n",
       "        text-align: right;\n",
       "    }\n",
       "</style>\n",
       "<table border=\"1\" class=\"dataframe\">\n",
       "  <thead>\n",
       "    <tr style=\"text-align: right;\">\n",
       "      <th></th>\n",
       "      <th>item_id</th>\n",
       "      <th>ym</th>\n",
       "    </tr>\n",
       "  </thead>\n",
       "  <tbody>\n",
       "    <tr>\n",
       "      <th>102977</th>\n",
       "      <td>13621</td>\n",
       "      <td>201401</td>\n",
       "    </tr>\n",
       "    <tr>\n",
       "      <th>105392</th>\n",
       "      <td>19997</td>\n",
       "      <td>201401</td>\n",
       "    </tr>\n",
       "    <tr>\n",
       "      <th>70284</th>\n",
       "      <td>12211</td>\n",
       "      <td>201309</td>\n",
       "    </tr>\n",
       "    <tr>\n",
       "      <th>14445</th>\n",
       "      <td>17173</td>\n",
       "      <td>201302</td>\n",
       "    </tr>\n",
       "    <tr>\n",
       "      <th>291</th>\n",
       "      <td>1168</td>\n",
       "      <td>201301</td>\n",
       "    </tr>\n",
       "    <tr>\n",
       "      <th>...</th>\n",
       "      <td>...</td>\n",
       "      <td>...</td>\n",
       "    </tr>\n",
       "    <tr>\n",
       "      <th>139695</th>\n",
       "      <td>19599</td>\n",
       "      <td>201406</td>\n",
       "    </tr>\n",
       "    <tr>\n",
       "      <th>74878</th>\n",
       "      <td>3392</td>\n",
       "      <td>201310</td>\n",
       "    </tr>\n",
       "    <tr>\n",
       "      <th>52007</th>\n",
       "      <td>7320</td>\n",
       "      <td>201307</td>\n",
       "    </tr>\n",
       "    <tr>\n",
       "      <th>16760</th>\n",
       "      <td>1760</td>\n",
       "      <td>201303</td>\n",
       "    </tr>\n",
       "    <tr>\n",
       "      <th>195129</th>\n",
       "      <td>15591</td>\n",
       "      <td>201503</td>\n",
       "    </tr>\n",
       "  </tbody>\n",
       "</table>\n",
       "<p>187129 rows × 2 columns</p>\n",
       "</div>"
      ],
      "text/plain": [
       "        item_id      ym\n",
       "102977    13621  201401\n",
       "105392    19997  201401\n",
       "70284     12211  201309\n",
       "14445     17173  201302\n",
       "291        1168  201301\n",
       "...         ...     ...\n",
       "139695    19599  201406\n",
       "74878      3392  201310\n",
       "52007      7320  201307\n",
       "16760      1760  201303\n",
       "195129    15591  201503\n",
       "\n",
       "[187129 rows x 2 columns]"
      ]
     },
     "execution_count": 88,
     "metadata": {},
     "output_type": "execute_result"
    }
   ],
   "source": [
    "X_train"
   ]
  },
  {
   "cell_type": "code",
   "execution_count": null,
   "id": "8c1a10a7-3dde-4929-ae8b-474e8025c5ae",
   "metadata": {},
   "outputs": [],
   "source": []
  }
 ],
 "metadata": {
  "kernelspec": {
   "display_name": "Python 3 (ipykernel)",
   "language": "python",
   "name": "python3"
  },
  "language_info": {
   "codemirror_mode": {
    "name": "ipython",
    "version": 3
   },
   "file_extension": ".py",
   "mimetype": "text/x-python",
   "name": "python",
   "nbconvert_exporter": "python",
   "pygments_lexer": "ipython3",
   "version": "3.9.7"
  }
 },
 "nbformat": 4,
 "nbformat_minor": 5
}
